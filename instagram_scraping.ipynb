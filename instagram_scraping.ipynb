{
 "cells": [
  {
   "cell_type": "code",
   "execution_count": 20,
   "metadata": {},
   "outputs": [],
   "source": [
    "# Importing necessary libraries\n",
    "import time\n",
    "import wget  # Used for downloading images\n",
    "from selenium import webdriver\n",
    "from selenium.webdriver.common.by import By\n",
    "from selenium.webdriver.common.keys import Keys  # Used for simulating keyboard inputs\n",
    "import getpass  # Used to hide the password in the console"
   ]
  },
  {
   "cell_type": "code",
   "execution_count": 21,
   "metadata": {},
   "outputs": [],
   "source": [
    "# Setting up account, password, and download location\n",
    "username = 'your_instagram_username'  # Replace the dots with your username\n",
    "# ---------------------------\n",
    "# Option 1: Using getpass() to hide the password in the console\n",
    "# password = getpass.getpass()\n",
    "\n",
    "# Option 2: Setting the password as a string\n",
    "password = 'your_password'  # Replace the dots with your password\n",
    "# ----------------------------------\n",
    "dest_loc = r'C:\\Users\\ASUS\\Desktop\\instagram_scraping_accaunt_images\\instaphotos'  # Setting the directory where the images will be downloaded"
   ]
  },
  {
   "cell_type": "code",
   "execution_count": 22,
   "metadata": {},
   "outputs": [],
   "source": [
    "# Opening the web page\n",
    "# ----------------------------------\n",
    "# # Opening with Chrome driver.\n",
    "\n",
    "# x = Service('.\\chromedriver.exe')\n",
    "# driver = webdriver.Chrome(service=x)\n",
    "# ----------------------------------\n",
    "# Opening with Firefox.\n",
    "driver = webdriver.Firefox()\n",
    "# ----------------------------------\n",
    "driver.maximize_window()\n",
    "driver.get('https://www.instagram.com')  # Opening the desired website (Instagram in this case)\n",
    "time.sleep(3)"
   ]
  },
  {
   "cell_type": "code",
   "execution_count": 23,
   "metadata": {},
   "outputs": [],
   "source": [
    "# Locating the username input box\n",
    "username_box = driver.find_element(By.XPATH, '//input[@name=\"username\"]')\n",
    "username_box.send_keys(username)  # Sending the username to the input box\n",
    "username_box.send_keys(Keys.ENTER)"
   ]
  },
  {
   "cell_type": "code",
   "execution_count": 24,
   "metadata": {},
   "outputs": [],
   "source": [
    "# Locating the password input box\n",
    "password_box = driver.find_element(By.XPATH, '//input[@aria-label=\"Password\"]')\n",
    "password_box.send_keys(password)\n",
    "password_box.send_keys(Keys.ENTER)\n",
    "time.sleep(8)"
   ]
  },
  {
   "cell_type": "code",
   "execution_count": 25,
   "metadata": {},
   "outputs": [],
   "source": [
    "# Handling the first pop-up (Not Now)\n",
    "not_now_button = driver.find_element(By.XPATH, \"//div[text()='Not Now']\")\n",
    "not_now_button.click()\n",
    "time.sleep(3)"
   ]
  },
  {
   "cell_type": "code",
   "execution_count": 26,
   "metadata": {},
   "outputs": [],
   "source": [
    "# Handling the second pop-up (Not Now for Notifications)\n",
    "notifications_not_button = driver.find_element(By.XPATH, \"//button[text()='Not Now']\")\n",
    "notifications_not_button.click()\n",
    "time.sleep(3)"
   ]
  },
  {
   "cell_type": "code",
   "execution_count": 27,
   "metadata": {},
   "outputs": [],
   "source": [
    "# Locating and clicking the search button\n",
    "search_button = driver.find_element(By.XPATH, \"(//div[@class='x1iyjqo2 xh8yej3']/div)[2]\")\n",
    "search_button.click()"
   ]
  },
  {
   "cell_type": "code",
   "execution_count": 28,
   "metadata": {},
   "outputs": [],
   "source": [
    "# Locating the search box and entering the desired search query\n",
    "search_box = driver.find_element(By.XPATH, '//input[@aria-label=\"Search input\" and @placeholder=\"Search\"]')\n",
    "search_query = input('Enter your search query: ')\n",
    "search_box.send_keys(search_query)\n",
    "time.sleep(5)\n"
   ]
  },
  {
   "cell_type": "code",
   "execution_count": 32,
   "metadata": {},
   "outputs": [],
   "source": [
    "# Clicking on the first result of the search\n",
    "first_finding_account = driver.find_element(By.XPATH, '(//div[@class=\"x9f619 x78zum5 xdt5ytf x1iyjqo2 x6ikm8r x1odjw0f xh8yej3 xocp1fn\"]/a)[1]')\n",
    "first_finding_account.click()\n",
    "time.sleep(3)"
   ]
  },
  {
   "cell_type": "code",
   "execution_count": 33,
   "metadata": {},
   "outputs": [],
   "source": [
    "# Scrolling down to load more images\n",
    "account_images = set()  # A set to store the links of the images\n",
    "while True:\n",
    "    images = driver.find_elements(By.XPATH, '//img[@class=\"x5yr21d xu96u03 x10l6tqk x13vifvy x87ps6o xh8yej3\"]')  # locating the images\n",
    "    for image in images:\n",
    "        source = image.get_attribute('src')  # retrieving links from the image sources\n",
    "        account_images.add(source)          # adding the links to the account_images set.\n",
    "\n",
    "    # Scrolling down the page\n",
    "    driver.execute_script(\"window.scrollBy(0,document.body.scrollHeight);\") \n",
    "    time.sleep(3)\n",
    "\n",
    "    # Variant 1: Checking if the account_images set has reached a sufficient number (1127 in this case, as Messi has posted this many)\n",
    "    number_of_images=driver.find_element(By.XPATH, \"//*[contains(@class,'html-span xdj266r x11i5rnm xat24cr x1mh8g0r xexx8yu x4uap5 x18d9i69 xkhd6sd x1hl2dhg x16tdsg8 x1vvkbs')]\").text\n",
    "    int_number_of_images=int(number_of_images.replace(',',''))\n",
    "    if len(account_images) >= 100: # Since indices start from 0, we use 1127, not 1126.\n",
    "        break\n",
    "\n",
    "    # # Variant 2: Scrolling until reaching the exact bottom of the page\n",
    "    # if driver.execute_script(\"return window.innerHeight + window.scrollY >= document.body.scrollHeight\"):\n",
    "    #     break\n",
    "  "
   ]
  },
  {
   "cell_type": "code",
   "execution_count": 34,
   "metadata": {},
   "outputs": [
    {
     "data": {
      "text/plain": [
       "108"
      ]
     },
     "execution_count": 34,
     "metadata": {},
     "output_type": "execute_result"
    }
   ],
   "source": [
    "# Showing the number of links in the account_images set\n",
    "len(account_images)"
   ]
  },
  {
   "cell_type": "code",
   "execution_count": 35,
   "metadata": {},
   "outputs": [],
   "source": [
    "# Downloading the images to the specified folder\n",
    "for image in account_images:\n",
    "    wget.download(image, dest_loc)   # downloading the images to the specified folder (dest_loc)."
   ]
  }
 ],
 "metadata": {
  "kernelspec": {
   "display_name": "Python 3",
   "language": "python",
   "name": "python3"
  },
  "language_info": {
   "codemirror_mode": {
    "name": "ipython",
    "version": 3
   },
   "file_extension": ".py",
   "mimetype": "text/x-python",
   "name": "python",
   "nbconvert_exporter": "python",
   "pygments_lexer": "ipython3",
   "version": "3.11.6"
  }
 },
 "nbformat": 4,
 "nbformat_minor": 2
}
