{
 "cells": [
  {
   "cell_type": "code",
   "execution_count": 1,
   "metadata": {},
   "outputs": [],
   "source": [
    "# Importing necessary libraries\n",
    "import time\n",
    "import wget  # Used for downloading images\n",
    "from selenium import webdriver\n",
    "from selenium.webdriver.common.by import By\n",
    "from selenium.webdriver.common.keys import Keys  # Used for simulating keyboard inputs\n",
    "import getpass  # Used to hide the password in the console"
   ]
  },
  {
   "cell_type": "code",
   "execution_count": 2,
   "metadata": {},
   "outputs": [],
   "source": [
    "# Setting up account, password, and download location\n",
    "username = 'your_instagram_username'  # Replace the dots with your username\n",
    "# ---------------------------\n",
    "# Option 1: Using getpass() to hide the password in the console\n",
    "# password = getpass.getpass()\n",
    "\n",
    "# Option 2: Setting the password as a string\n",
    "password = 'your_password'  # Replace the dots with your password\n",
    "# ----------------------------------\n",
    "dest_loc = r'C:\\Users\\ASUS\\Desktop\\selenium dersleri\\instagram_scraping_accaunt_images\\instaphotos'  # Setting the directory where the images will be downloaded"
   ]
  },
  {
   "cell_type": "code",
   "execution_count": 3,
   "metadata": {},
   "outputs": [],
   "source": [
    "# Opening the web page\n",
    "# ----------------------------------\n",
    "# # Opening with Chrome driver.\n",
    "\n",
    "# x = Service('.\\chromedriver.exe')\n",
    "# driver = webdriver.Chrome(service=x)\n",
    "# ----------------------------------\n",
    "# Opening with Firefox.\n",
    "driver = webdriver.Firefox()\n",
    "# ----------------------------------\n",
    "driver.maximize_window()\n",
    "driver.get('https://www.instagram.com')  # Opening the desired website (Instagram in this case)\n",
    "time.sleep(3)"
   ]
  },
  {
   "cell_type": "code",
   "execution_count": 4,
   "metadata": {},
   "outputs": [],
   "source": [
    "# Locating the username input box\n",
    "username_box = driver.find_element(By.XPATH, '//input[@name=\"username\"]')\n",
    "username_box.send_keys(username)  # Sending the username to the input box\n",
    "username_box.send_keys(Keys.ENTER)"
   ]
  },
  {
   "cell_type": "code",
   "execution_count": 5,
   "metadata": {},
   "outputs": [],
   "source": [
    "# Locating the password input box\n",
    "password_box = driver.find_element(By.XPATH, '//input[@aria-label=\"Password\"]')\n",
    "password_box.send_keys(password)\n",
    "password_box.send_keys(Keys.ENTER)\n",
    "time.sleep(6)"
   ]
  },
  {
   "cell_type": "code",
   "execution_count": 6,
   "metadata": {},
   "outputs": [],
   "source": [
    "# Handling the first pop-up (Not Now)\n",
    "not_now_button = driver.find_element(By.XPATH, \"//div[text()='Not Now']\")\n",
    "not_now_button.click()\n",
    "time.sleep(3)"
   ]
  },
  {
   "cell_type": "code",
   "execution_count": 7,
   "metadata": {},
   "outputs": [],
   "source": [
    "# Handling the second pop-up (Not Now for Notifications)\n",
    "notifications_not_button = driver.find_element(By.XPATH, \"//button[text()='Not Now']\")\n",
    "notifications_not_button.click()\n",
    "time.sleep(3)"
   ]
  },
  {
   "cell_type": "code",
   "execution_count": 9,
   "metadata": {},
   "outputs": [],
   "source": [
    "# Locating and clicking the search button\n",
    "search_button = driver.find_element(By.XPATH, \"(//div[@class='x1iyjqo2 xh8yej3']/div)[2]\")\n",
    "search_button.click()"
   ]
  },
  {
   "cell_type": "code",
   "execution_count": 10,
   "metadata": {},
   "outputs": [],
   "source": [
    "# Locating the search box and entering the desired search query\n",
    "search_box = driver.find_element(By.XPATH, '//input[@aria-label=\"Search input\" and @placeholder=\"Search\"]')\n",
    "search_query = input('Enter your search query: ')\n",
    "search_box.send_keys(search_query)\n",
    "time.sleep(3)\n"
   ]
  },
  {
   "cell_type": "code",
   "execution_count": 11,
   "metadata": {},
   "outputs": [],
   "source": [
    "# Clicking on the first result of the search\n",
    "first_finding_account = driver.find_element(By.XPATH, '(//div[@class=\"x9f619 x78zum5 xdt5ytf x1iyjqo2 x6ikm8r x1odjw0f xh8yej3 xocp1fn\"]/a)[1]')\n",
    "first_finding_account.click()\n",
    "time.sleep(3)"
   ]
  },
  {
   "cell_type": "code",
   "execution_count": 12,
   "metadata": {},
   "outputs": [],
   "source": [
    "# Scrolling down to load more images\n",
    "account_images = set()  # A set to store the links of the images\n",
    "while True:\n",
    "    images = driver.find_elements(By.XPATH, '//img[@class=\"x5yr21d xu96u03 x10l6tqk x13vifvy x87ps6o xh8yej3\"]')  # locating the images\n",
    "    for image in images:\n",
    "        source = image.get_attribute('src')  # retrieving links from the image sources\n",
    "        account_images.add(source)          # adding the links to the account_images set.\n",
    "\n",
    "    # Scrolling down the page\n",
    "    driver.execute_script(\"window.scrollBy(0,document.body.scrollHeight);\") \n",
    "    time.sleep(3)\n",
    "\n",
    "    # Variant 1: Checking if the account_images set has reached a sufficient number (1127 in this case, as Messi has posted this many)\n",
    "    number_of_images=driver.find_element(By.XPATH, \"//*[contains(@class,'html-span xdj266r x11i5rnm xat24cr x1mh8g0r xexx8yu x4uap5 x18d9i69 xkhd6sd x1hl2dhg x16tdsg8 x1vvkbs')]\").text\n",
    "    int_number_of_images=int(number_of_images.replace(',',''))\n",
    "    if len(account_images) >= 100: # Since indices start from 0, we use 1127, not 1126.\n",
    "        break\n",
    "\n",
    "    # # Variant 2: Scrolling until reaching the exact bottom of the page\n",
    "    # if driver.execute_script(\"return window.innerHeight + window.scrollY >= document.body.scrollHeight\"):\n",
    "    #     break\n",
    "  "
   ]
  },
  {
   "cell_type": "code",
   "execution_count": 15,
   "metadata": {},
   "outputs": [
    {
     "data": {
      "text/plain": [
       "str"
      ]
     },
     "execution_count": 15,
     "metadata": {},
     "output_type": "execute_result"
    }
   ],
   "source": [
    "','.join()"
   ]
  },
  {
   "cell_type": "code",
   "execution_count": 13,
   "metadata": {},
   "outputs": [
    {
     "data": {
      "text/plain": [
       "108"
      ]
     },
     "execution_count": 13,
     "metadata": {},
     "output_type": "execute_result"
    }
   ],
   "source": [
    "# Showing the number of links in the account_images set\n",
    "len(account_images)"
   ]
  },
  {
   "cell_type": "code",
   "execution_count": 15,
   "metadata": {},
   "outputs": [
    {
     "data": {
      "text/plain": [
       "{'https://instagram.fgyd21-1.fna.fbcdn.net/v/t39.30808-6/359728868_18228145495227084_5508022397472597432_n.jpg?stp=dst-jpg_e15&efg=eyJ2ZW5jb2RlX3RhZyI6ImltYWdlX3VybGdlbi4xMzQ5eDE2ODcuc2RyIn0&_nc_ht=instagram.fgyd21-1.fna.fbcdn.net&_nc_cat=100&_nc_ohc=CJulwyOL3QEAX82Yfeq&edm=ABmJApAAAAAA&ccb=7-5&ig_cache_key=MzE0NzYxNDEzMTM3NjMyNjg0NA%3D%3D.2-ccb7-5&oh=00_AfBcM3OygOoCEQH0mqqd_l0HsJy2UXhzHkDMO9MbwccgSg&oe=655C4BD3&_nc_sid=b41fef',\n",
       " 'https://instagram.fgyd21-1.fna.fbcdn.net/v/t51.2885-15/343954492_6122835404473644_8147031986208106147_n.jpg?stp=dst-jpg_e35&efg=eyJ2ZW5jb2RlX3RhZyI6ImltYWdlX3VybGdlbi42NDB4NDI3LnNkciJ9&_nc_ht=instagram.fgyd21-1.fna.fbcdn.net&_nc_cat=100&_nc_ohc=GwLKC2bexoAAX_3h7dV&edm=ABmJApABAAAA&ccb=7-5&ig_cache_key=MzA5MTc0NTE5MjczODU4ODU4Mw%3D%3D.2-ccb7-5&oh=00_AfC0dr5uhcBEDsclBXfYJzXKeayDEGaW2LqpCuT8Hn555g&oe=655BD86B&_nc_sid=b41fef',\n",
       " 'https://instagram.fgyd21-1.fna.fbcdn.net/v/t51.2885-15/345432045_1741409629609346_8155077074081507114_n.jpg?stp=dst-jpg_e35&efg=eyJ2ZW5jb2RlX3RhZyI6ImltYWdlX3VybGdlbi4xNDQweDE4MDAuc2RyIn0&_nc_ht=instagram.fgyd21-1.fna.fbcdn.net&_nc_cat=102&_nc_ohc=YvP2VxDZzcIAX_tWti0&edm=ABmJApABAAAA&ccb=7-5&ig_cache_key=MzA5ODQyODExOTE1MzE0NDQ0OA%3D%3D.2-ccb7-5&oh=00_AfD1V1eu2w_9w7vzVBlz9qkjEisJyqk_Dbpn31uRprbv_w&oe=655E7770&_nc_sid=b41fef',\n",
       " 'https://instagram.fgyd21-1.fna.fbcdn.net/v/t51.2885-15/345648560_547181534268232_8343710056311187070_n.jpg?stp=dst-jpg_e35&efg=eyJ2ZW5jb2RlX3RhZyI6ImltYWdlX3VybGdlbi43NTB4NzA2LnNkciJ9&_nc_ht=instagram.fgyd21-1.fna.fbcdn.net&_nc_cat=104&_nc_ohc=HA9ppzJ8HpsAX-4DPM0&edm=ABmJApABAAAA&ccb=7-5&ig_cache_key=MzA5OTcyMjg1MTMwNTE4MDc3Mw%3D%3D.2-ccb7-5&oh=00_AfA736zhQSvyxOxD95jRFoGePng20g5XA_bOCzczBOBP0w&oe=655D6785&_nc_sid=b41fef',\n",
       " 'https://instagram.fgyd21-1.fna.fbcdn.net/v/t51.2885-15/345672288_619802933377985_2725608650864508690_n.jpg?stp=dst-jpg_e35&efg=eyJ2ZW5jb2RlX3RhZyI6ImltYWdlX3VybGdlbi4xMjExeDkxNi5zZHIifQ&_nc_ht=instagram.fgyd21-1.fna.fbcdn.net&_nc_cat=105&_nc_ohc=5j18kW3qyIgAX9tDuC5&edm=ABmJApABAAAA&ccb=7-5&ig_cache_key=MzA5ODg0Mzc0MTM4NTIzMjkzOA%3D%3D.2-ccb7-5&oh=00_AfBCxcxvLPL79mZKf6C3rSaJM-0wqMneJRVP4BUEGZCGLg&oe=655D84F0&_nc_sid=b41fef',\n",
       " 'https://instagram.fgyd21-1.fna.fbcdn.net/v/t51.2885-15/346351830_703736225087508_4089668916025187323_n.jpg?stp=dst-jpg_e35&efg=eyJ2ZW5jb2RlX3RhZyI6ImltYWdlX3VybGdlbi4xNDQweDE0NDAuc2RyIn0&_nc_ht=instagram.fgyd21-1.fna.fbcdn.net&_nc_cat=100&_nc_ohc=pdl2cIGLW1sAX-qSH29&edm=ABmJApABAAAA&ccb=7-5&ig_cache_key=MzEwMDUxMzA0NTUyMDUyOTEwNQ%3D%3D.2-ccb7-5&oh=00_AfCqQPnzvzwPph8qp0obv8x6PqXRv-3Pz11Tu_PepPb77Q&oe=655D41A0&_nc_sid=b41fef',\n",
       " 'https://instagram.fgyd21-1.fna.fbcdn.net/v/t51.2885-15/347065947_284290157271644_7162821176711645174_n.jpg?stp=dst-jpg_e35&efg=eyJ2ZW5jb2RlX3RhZyI6ImltYWdlX3VybGdlbi4xNDQweDE0MzMuc2RyIn0&_nc_ht=instagram.fgyd21-1.fna.fbcdn.net&_nc_cat=108&_nc_ohc=4ADP9H0TsB4AX_v2pBf&edm=ABmJApABAAAA&ccb=7-5&ig_cache_key=MzEwMzMwODMyMjIwNzk0MTY2OQ%3D%3D.2-ccb7-5&oh=00_AfCe_PJPyWCBACVBsPJiJwjVxR68rpd77QxkIhOT6bapvA&oe=655DA57D&_nc_sid=b41fef',\n",
       " 'https://instagram.fgyd21-1.fna.fbcdn.net/v/t51.2885-15/347396107_788912699527981_1353692316342001395_n.jpg?stp=dst-jpg_e15&efg=eyJ2ZW5jb2RlX3RhZyI6ImltYWdlX3VybGdlbi43MjB4NDA1LnNkciJ9&_nc_ht=instagram.fgyd21-1.fna.fbcdn.net&_nc_cat=101&_nc_ohc=anKI1yRHsdkAX_e4rEq&edm=ABmJApABAAAA&ccb=7-5&ig_cache_key=MzEwNjA3NjE5MzM0NjMwMzAzMQ%3D%3D.2-ccb7-5&oh=00_AfCWtjAzRBlfiHVYiU5hKYShXf3FCmfafHwhc_-TBbts9A&oe=655C9F10&_nc_sid=b41fef',\n",
       " 'https://instagram.fgyd21-1.fna.fbcdn.net/v/t51.2885-15/348877859_637140454573871_5479417758897408642_n.jpg?stp=dst-jpg_e35&efg=eyJ2ZW5jb2RlX3RhZyI6ImltYWdlX3VybGdlbi4xNDQweDE0NDAuc2RyIn0&_nc_ht=instagram.fgyd21-1.fna.fbcdn.net&_nc_cat=111&_nc_ohc=XusYjNm1cT4AX-TPkX7&edm=ABmJApABAAAA&ccb=7-5&ig_cache_key=MzEwOTg4OTQ5ODkwOTMwNDA3Nw%3D%3D.2-ccb7-5&oh=00_AfAR83PmS4jlwgDcyjkm9xh_YDP7LLxLFK7uxR_NCuavRQ&oe=655E0104&_nc_sid=b41fef',\n",
       " 'https://instagram.fgyd21-1.fna.fbcdn.net/v/t51.2885-15/349090305_939801180422488_7199460830378446801_n.jpg?stp=dst-jpg_e15&efg=eyJ2ZW5jb2RlX3RhZyI6ImltYWdlX3VybGdlbi43MjB4MTI4MC5zZHIifQ&_nc_ht=instagram.fgyd21-1.fna.fbcdn.net&_nc_cat=104&_nc_ohc=j62BwZnMVxkAX-4EDFq&edm=ABmJApABAAAA&ccb=7-5&ig_cache_key=MzExMTI2NTIyMDQwNDExODU2MQ%3D%3D.2-ccb7-5&oh=00_AfCcZmMAP78LUqN-8XjETI-ElDt6EZ2yUWKSp1LRZJdjaQ&oe=655CC595&_nc_sid=b41fef',\n",
       " 'https://instagram.fgyd21-1.fna.fbcdn.net/v/t51.2885-15/349127559_768424601330227_76579084555259620_n.jpg?stp=dst-jpg_e35&efg=eyJ2ZW5jb2RlX3RhZyI6ImltYWdlX3VybGdlbi4xNDQweDE0NDAuc2RyIn0&_nc_ht=instagram.fgyd21-1.fna.fbcdn.net&_nc_cat=107&_nc_ohc=8qAc-x0phUIAX9aWAdT&edm=ABmJApABAAAA&ccb=7-5&ig_cache_key=MzExMjU2NDE5NDA0NTk2ODQzMw%3D%3D.2-ccb7-5&oh=00_AfDp66DeNFxjgTWXbfx2lgb1TAY9WfODIQR_0aYVzCm2ow&oe=655D9F4C&_nc_sid=b41fef',\n",
       " 'https://instagram.fgyd21-1.fna.fbcdn.net/v/t51.2885-15/352423588_186428600719315_9024844241345859359_n.jpg?stp=dst-jpg_e15&efg=eyJ2ZW5jb2RlX3RhZyI6ImltYWdlX3VybGdlbi43MjB4NDA0LnNkciJ9&_nc_ht=instagram.fgyd21-1.fna.fbcdn.net&_nc_cat=107&_nc_ohc=3Xhwl9IQB2MAX-JcPiq&edm=ABmJApABAAAA&ccb=7-5&ig_cache_key=MzEyMTI5OTg2OTYzODU1ODc5Mg%3D%3D.2-ccb7-5&oh=00_AfB05ArS2OjjjXhXdsTDUen9KDZDNw1iYMpQx_nuXdB7pQ&oe=655CA9FC&_nc_sid=b41fef',\n",
       " 'https://instagram.fgyd21-1.fna.fbcdn.net/v/t51.2885-15/352848106_119762197806340_213212455589061355_n.jpg?stp=dst-jpg_e35&efg=eyJ2ZW5jb2RlX3RhZyI6ImltYWdlX3VybGdlbi4xNDQweDExNjYuc2RyIn0&_nc_ht=instagram.fgyd21-1.fna.fbcdn.net&_nc_cat=104&_nc_ohc=3zrIGiT7do8AX8wTSiM&edm=ABmJApABAAAA&ccb=7-5&ig_cache_key=MzEyMjkwMjI4MzQ3MzgzMjIzMQ%3D%3D.2-ccb7-5&oh=00_AfBrMUljTz8C1cNrF3tBEE8Rg-0jxzM9F6Kigmk7PVFvzw&oe=655D5EB1&_nc_sid=b41fef',\n",
       " 'https://instagram.fgyd21-1.fna.fbcdn.net/v/t51.2885-15/353894026_807352573943986_8446205980580486153_n.jpg?stp=dst-jpg_e35&efg=eyJ2ZW5jb2RlX3RhZyI6ImltYWdlX3VybGdlbi4xNDQweDk1OS5zZHIifQ&_nc_ht=instagram.fgyd21-1.fna.fbcdn.net&_nc_cat=110&_nc_ohc=MBKeAJSGvsIAX-8KAbV&edm=ABmJApABAAAA&ccb=7-5&ig_cache_key=MzEyNTc3NTg0MDk2NDgzNzU3Nw%3D%3D.2-ccb7-5&oh=00_AfBD-vSbm12CbfOTtzJnwftP8vVeFYZ2vehebv45xdybMg&oe=655DB31F&_nc_sid=b41fef',\n",
       " 'https://instagram.fgyd21-1.fna.fbcdn.net/v/t51.2885-15/354039174_266014076091674_7504616083253047295_n.jpg?stp=dst-jpg_e35&efg=eyJ2ZW5jb2RlX3RhZyI6ImltYWdlX3VybGdlbi4xNDQweDE0NDAuc2RyIn0&_nc_ht=instagram.fgyd21-1.fna.fbcdn.net&_nc_cat=102&_nc_ohc=81vGrkwIqcAAX_EXoPa&edm=ABmJApABAAAA&ccb=7-5&ig_cache_key=MzEyNDQ4NzM0NDAzMTY3NTc3OA%3D%3D.2-ccb7-5&oh=00_AfCqlvMfnAzfhhbmvtPbD5qOZs73f6DmNwDalbwvPvM0GQ&oe=655D72BC&_nc_sid=b41fef',\n",
       " 'https://instagram.fgyd21-1.fna.fbcdn.net/v/t51.2885-15/354394895_1025163152188863_5058999130840007624_n.jpg?stp=dst-jpg_e35&efg=eyJ2ZW5jb2RlX3RhZyI6ImltYWdlX3VybGdlbi4xMDgweDEwODAuc2RyIn0&_nc_ht=instagram.fgyd21-1.fna.fbcdn.net&_nc_cat=103&_nc_ohc=nXHnm0rXqncAX_6q9P_&edm=ABmJApABAAAA&ccb=7-5&ig_cache_key=MzEyODEwNjczMTQ4NTcxMzM5Nw%3D%3D.2-ccb7-5&oh=00_AfDOT_vD9bCCx5jC35bl0JyF4KlLBfjH5zX7RuM7oZxJDA&oe=655DB5E0&_nc_sid=b41fef',\n",
       " 'https://instagram.fgyd21-1.fna.fbcdn.net/v/t51.2885-15/354538508_828204211970604_2032276900967184847_n.jpg?stp=dst-jpg_e15&efg=eyJ2ZW5jb2RlX3RhZyI6ImltYWdlX3VybGdlbi43MjB4MTI4MC5zZHIifQ&_nc_ht=instagram.fgyd21-1.fna.fbcdn.net&_nc_cat=100&_nc_ohc=o1AY0QX8MnQAX-RTTAw&edm=ABmJApABAAAA&ccb=7-5&ig_cache_key=MzEyNjU2ODYzNjcyMjMyMzA0NQ%3D%3D.2-ccb7-5&oh=00_AfDfpfrUrncF3lyUPknhhKErojYY8INHGplts7k_6H0qow&oe=655BCBD0&_nc_sid=b41fef',\n",
       " 'https://instagram.fgyd21-1.fna.fbcdn.net/v/t51.2885-15/354776189_258721403514758_5950652375525411849_n.jpg?stp=dst-jpg_e15&efg=eyJ2ZW5jb2RlX3RhZyI6ImltYWdlX3VybGdlbi43MjB4MTI4MC5zZHIifQ&_nc_ht=instagram.fgyd21-1.fna.fbcdn.net&_nc_cat=102&_nc_ohc=6quVNQPzqLUAX9AvBw6&edm=ABmJApABAAAA&ccb=7-5&ig_cache_key=MzEyNzE2MTM5OTcwNDkzNTYyNQ%3D%3D.2-ccb7-5&oh=00_AfCegYScF_DpCl-ORCqy65oRYHHQArQNP2Vg_-g5sMxXHg&oe=655CD1AC&_nc_sid=b41fef',\n",
       " 'https://instagram.fgyd21-1.fna.fbcdn.net/v/t51.2885-15/355111024_664193778854302_5330611974630277647_n.jpg?stp=dst-jpg_e15&efg=eyJ2ZW5jb2RlX3RhZyI6ImltYWdlX3VybGdlbi43MjB4MTI4MC5zZHIifQ&_nc_ht=instagram.fgyd21-1.fna.fbcdn.net&_nc_cat=110&_nc_ohc=0bazWbKZkToAX_2quOD&edm=ABmJApABAAAA&ccb=7-5&ig_cache_key=MzEyOTUxOTcyMzA4NzU0NzUxNw%3D%3D.2-ccb7-5&oh=00_AfAHnVS2p3e6yRZLk3n086zF6asnPxq-_BjXF2Nc115yLA&oe=655C2EFE&_nc_sid=b41fef',\n",
       " 'https://instagram.fgyd21-1.fna.fbcdn.net/v/t51.2885-15/355364900_1366001793975595_69832448701440926_n.jpg?stp=dst-jpg_e15&efg=eyJ2ZW5jb2RlX3RhZyI6ImltYWdlX3VybGdlbi43MjB4MTI4MC5zZHIifQ&_nc_ht=instagram.fgyd21-1.fna.fbcdn.net&_nc_cat=107&_nc_ohc=BPJWfI64khcAX8VQ7XB&edm=ABmJApABAAAA&ccb=7-5&ig_cache_key=MzEzMDA0Nzc3MTExMzM5NDkzNg%3D%3D.2-ccb7-5&oh=00_AfBC3kEfaPkEpPZxGX9RzONZw4ontaG2PPtjyxQl8WPvYg&oe=655BD732&_nc_sid=b41fef',\n",
       " 'https://instagram.fgyd21-1.fna.fbcdn.net/v/t51.2885-15/356008636_1293672034581300_6561989793076036879_n.jpg?stp=dst-jpg_e35&efg=eyJ2ZW5jb2RlX3RhZyI6ImltYWdlX3VybGdlbi4xMjQ2eDEyMTAuc2RyIn0&_nc_ht=instagram.fgyd21-1.fna.fbcdn.net&_nc_cat=100&_nc_ohc=qY6QszTqbSMAX8Asq67&edm=ABmJApABAAAA&ccb=7-5&ig_cache_key=MzEzMzA1NTEzNzkxNjE3NDIyMg%3D%3D.2-ccb7-5&oh=00_AfAeKQdGj0qotV4Ophj8dv1lfDZxgBAI660LRWHXQT8ijg&oe=655DC007&_nc_sid=b41fef',\n",
       " 'https://instagram.fgyd21-1.fna.fbcdn.net/v/t51.2885-15/356375361_657766132389881_2278537251581191929_n.jpg?stp=dst-jpg_e35&efg=eyJ2ZW5jb2RlX3RhZyI6ImltYWdlX3VybGdlbi4xNDQweDE0NDAuc2RyIn0&_nc_ht=instagram.fgyd21-1.fna.fbcdn.net&_nc_cat=105&_nc_ohc=A42cMGoEGwEAX8KZhKf&edm=ABmJApABAAAA&ccb=7-5&ig_cache_key=MzEzMzc0NjY2MTY3NTEzNjM1NA%3D%3D.2-ccb7-5&oh=00_AfDt6Kg-3HB5GZRHehkV7nkeK7b4iM5N5ZlTNkj6lQO8Ew&oe=655E1A6D&_nc_sid=b41fef',\n",
       " 'https://instagram.fgyd21-1.fna.fbcdn.net/v/t51.2885-15/356613793_743178344230788_7769151482976927645_n.jpg?stp=dst-jpg_e35&efg=eyJ2ZW5jb2RlX3RhZyI6ImltYWdlX3VybGdlbi4xNDQweDE0NDAuc2RyIn0&_nc_ht=instagram.fgyd21-1.fna.fbcdn.net&_nc_cat=100&_nc_ohc=9lL4c2BffX4AX91oDHm&edm=ABmJApABAAAA&ccb=7-5&ig_cache_key=MzEzNDg1MDM3OTEwNzQxNTU3OA%3D%3D.2-ccb7-5&oh=00_AfBQiG9ltWoIrxHKEUHvGULkRXl--fAE5ZW3phj7G-mRNQ&oe=655CC630&_nc_sid=b41fef',\n",
       " 'https://instagram.fgyd21-1.fna.fbcdn.net/v/t51.2885-15/356794244_1313629549559726_5879414105827801987_n.jpg?stp=dst-jpg_e35&efg=eyJ2ZW5jb2RlX3RhZyI6ImltYWdlX3VybGdlbi4xMzYzeDEzNDguc2RyIn0&_nc_ht=instagram.fgyd21-1.fna.fbcdn.net&_nc_cat=102&_nc_ohc=_pxkpMtx8g8AX-hl4tE&edm=ABmJApABAAAA&ccb=7-5&ig_cache_key=MzEzNzQ0ODkxMTA2OTE1Mzk1Nw%3D%3D.2-ccb7-5&oh=00_AfA7NKRm_OEHx3kX2Moquo2CdeFGdlScZQfJNYevYEOodQ&oe=655CF33F&_nc_sid=b41fef',\n",
       " 'https://instagram.fgyd21-1.fna.fbcdn.net/v/t51.2885-15/357997435_2025652967775444_5311171563079913986_n.jpg?stp=dst-jpg_e15&efg=eyJ2ZW5jb2RlX3RhZyI6ImltYWdlX3VybGdlbi43MjB4MTI4MC5zZHIifQ&_nc_ht=instagram.fgyd21-1.fna.fbcdn.net&_nc_cat=100&_nc_ohc=qevi7NAHVzkAX9gpkqo&edm=ABmJApABAAAA&ccb=7-5&ig_cache_key=MzE0MDI5MzI3NzY0NzAyMTU3Nw%3D%3D.2-ccb7-5&oh=00_AfC5wln3lnAZQsdFlk3OL30yJN0BfOkMKCErk2sOoCOrrw&oe=655C0867&_nc_sid=b41fef',\n",
       " 'https://instagram.fgyd21-1.fna.fbcdn.net/v/t51.2885-15/358363899_618508463617776_1379887599541021159_n.jpg?stp=dst-jpg_e15&efg=eyJ2ZW5jb2RlX3RhZyI6ImltYWdlX3VybGdlbi43MjB4NDA0LnNkciJ9&_nc_ht=instagram.fgyd21-1.fna.fbcdn.net&_nc_cat=100&_nc_ohc=AQm3S1jmROgAX8dEy51&edm=ABmJApABAAAA&ccb=7-5&ig_cache_key=MzE0MDk5NjQxMjI0NjI1MTk0OA%3D%3D.2-ccb7-5&oh=00_AfDGOZdoI_2t21F-bFF8WGkVTZ_gOXh4Tscmb_LlkgummA&oe=655CC241&_nc_sid=b41fef',\n",
       " 'https://instagram.fgyd21-1.fna.fbcdn.net/v/t51.2885-15/358512576_810694704013343_4492698410451666396_n.jpg?stp=dst-jpg_e15&efg=eyJ2ZW5jb2RlX3RhZyI6ImltYWdlX3VybGdlbi43MjB4OTAwLnNkciJ9&_nc_ht=instagram.fgyd21-1.fna.fbcdn.net&_nc_cat=111&_nc_ohc=g17o-6cJao0AX9zbTFb&edm=ABmJApABAAAA&ccb=7-5&ig_cache_key=MzE0Mzc5NzIwMzQ2OTc5MzQ1NQ%3D%3D.2-ccb7-5&oh=00_AfAVOXXh_PmAJRWIMbl0C0S9LHTTlk7tqzRS-hKOU3CNfg&oe=655C675A&_nc_sid=b41fef',\n",
       " 'https://instagram.fgyd21-1.fna.fbcdn.net/v/t51.2885-15/358787167_195979529801779_6714568949448965628_n.jpg?stp=dst-jpg_e35&efg=eyJ2ZW5jb2RlX3RhZyI6ImltYWdlX3VybGdlbi4xNDQweDE0Mzkuc2RyIn0&_nc_ht=instagram.fgyd21-1.fna.fbcdn.net&_nc_cat=107&_nc_ohc=4lvljjMWAlwAX_eoQMB&edm=ABmJApABAAAA&ccb=7-5&ig_cache_key=MzE0NDUwMzY3NjU2NzU1MDUzNA%3D%3D.2-ccb7-5&oh=00_AfCuD9kDKcXxQ5zLA-zfCwhLgXYjAT_xnzQGAMqEUdFkMw&oe=655D39DD&_nc_sid=b41fef',\n",
       " 'https://instagram.fgyd21-1.fna.fbcdn.net/v/t51.2885-15/359111990_850060286450347_3250419253027095532_n.jpg?stp=dst-jpg_e15&efg=eyJ2ZW5jb2RlX3RhZyI6ImltYWdlX3VybGdlbi43MjB4NzIwLnNkciJ9&_nc_ht=instagram.fgyd21-1.fna.fbcdn.net&_nc_cat=107&_nc_ohc=5rGEswkLOHEAX_wyGyR&edm=ABmJApABAAAA&ccb=7-5&ig_cache_key=MzE0NTI3ODQ2NTk4NDc1Njc4OQ%3D%3D.2-ccb7-5&oh=00_AfADk4E74mC69VldmwJUzNMX0IcpnzRmpm76Zm5xdp-nuQ&oe=655DB0DD&_nc_sid=b41fef',\n",
       " 'https://instagram.fgyd21-1.fna.fbcdn.net/v/t51.2885-15/359260619_593239122694708_4611933711490234079_n.jpg?stp=dst-jpg_e35&efg=eyJ2ZW5jb2RlX3RhZyI6ImltYWdlX3VybGdlbi4xNDQweDg5OC5zZHIifQ&_nc_ht=instagram.fgyd21-1.fna.fbcdn.net&_nc_cat=104&_nc_ohc=K5Bx32E_zt0AX_UKb-p&edm=ABmJApABAAAA&ccb=7-5&ig_cache_key=MzE0NDA0NDc3ODYxNDE0NzYzOQ%3D%3D.2-ccb7-5&oh=00_AfCSsvYlEwQ7iHqzfeKf4JlVM0NhzDQ9r8dsydtsTq1Mpw&oe=655CF530&_nc_sid=b41fef',\n",
       " 'https://instagram.fgyd21-1.fna.fbcdn.net/v/t51.2885-15/359609419_1299267267352294_1755094186045651895_n.jpg?stp=dst-jpg_e35&efg=eyJ2ZW5jb2RlX3RhZyI6ImltYWdlX3VybGdlbi4xNDM5eDE3OTkuc2RyIn0&_nc_ht=instagram.fgyd21-1.fna.fbcdn.net&_nc_cat=110&_nc_ohc=vce-9VERv9sAX8Uxivm&edm=ABmJApABAAAA&ccb=7-5&ig_cache_key=MzE0MzIyMjU3MzI1MjUzMTczMA%3D%3D.2-ccb7-5&oh=00_AfDWChd9EoG_j7Angkt-4pa47Y4oAUONuhUr7xuvb7Zv9w&oe=655C944A&_nc_sid=b41fef',\n",
       " 'https://instagram.fgyd21-1.fna.fbcdn.net/v/t51.2885-15/359743188_3551447985124874_680625282429941298_n.jpg?stp=dst-jpg_e15&efg=eyJ2ZW5jb2RlX3RhZyI6ImltYWdlX3VybGdlbi43MjB4MTI4MC5zZHIifQ&_nc_ht=instagram.fgyd21-1.fna.fbcdn.net&_nc_cat=102&_nc_ohc=rRY9u6W8HL0AX88qOKz&edm=ABmJApABAAAA&ccb=7-5&ig_cache_key=MzE0NjgwOTk4Mzc2MDY4ODY2Mg%3D%3D.2-ccb7-5&oh=00_AfD6zrh7B80XSE9vnQl2hQxmL77IZwGsVe_oKPNJB9JzyQ&oe=655CAD27&_nc_sid=b41fef',\n",
       " 'https://instagram.fgyd21-1.fna.fbcdn.net/v/t51.2885-15/360037855_994016398306952_3718587954567455594_n.jpg?stp=dst-jpg_e15&efg=eyJ2ZW5jb2RlX3RhZyI6ImltYWdlX3VybGdlbi43MjB4MTI4MC5zZHIifQ&_nc_ht=instagram.fgyd21-1.fna.fbcdn.net&_nc_cat=108&_nc_ohc=xYtCy-6cDZIAX_w_5d9&edm=ABmJApABAAAA&ccb=7-5&ig_cache_key=MzE0NjA5NzkwNzM0MTQ3NTIyNQ%3D%3D.2-ccb7-5&oh=00_AfB_jEPI_gQXh4LvJ3qqUpJMvuq8hlkC4q7-md8bd_Fuyg&oe=655CD563&_nc_sid=b41fef',\n",
       " 'https://instagram.fgyd21-1.fna.fbcdn.net/v/t51.2885-15/360114836_141191318998406_5622928810600633137_n.jpg?stp=dst-jpg_e15&efg=eyJ2ZW5jb2RlX3RhZyI6ImltYWdlX3VybGdlbi4yMTYweDM4NDAuc2RyIn0&_nc_ht=instagram.fgyd21-1.fna.fbcdn.net&_nc_cat=102&_nc_ohc=BtIJpwnDvCMAX937Uwx&edm=ABmJApABAAAA&ccb=7-5&ig_cache_key=MzE0NzYwNjQ4OTQzMDY1MDM2NA%3D%3D.2-ccb7-5&oh=00_AfCXJzZXQtDH7MblDL06gPP6ri4bDQXsnRwN4oiDpKUFnA&oe=655BE18D&_nc_sid=b41fef',\n",
       " 'https://instagram.fgyd21-1.fna.fbcdn.net/v/t51.2885-15/361552792_819282632837290_7826134862324584742_n.jpg?stp=dst-jpg_e35&efg=eyJ2ZW5jb2RlX3RhZyI6ImltYWdlX3VybGdlbi4xMDY1eDcxMC5zZHIifQ&_nc_ht=instagram.fgyd21-1.fna.fbcdn.net&_nc_cat=110&_nc_ohc=IfqNwLFEW6gAX9EukZW&edm=ABmJApABAAAA&ccb=7-5&ig_cache_key=MzE1MTM4MDMzNDg0Njk3MzczNw%3D%3D.2-ccb7-5&oh=00_AfAfktZcQSGdazcuK7N9DZv90fVXOcKWsfsx0evPIqLCgw&oe=655E983F&_nc_sid=b41fef',\n",
       " 'https://instagram.fgyd21-1.fna.fbcdn.net/v/t51.2885-15/361555366_581552277252018_4476285564951870662_n.jpg?stp=dst-jpg_e35&efg=eyJ2ZW5jb2RlX3RhZyI6ImltYWdlX3VybGdlbi4xNDQweDE0NDAuc2RyIn0&_nc_ht=instagram.fgyd21-1.fna.fbcdn.net&_nc_cat=106&_nc_ohc=v1GBGqVRRb0AX84Zmr1&edm=ABmJApABAAAA&ccb=7-5&ig_cache_key=MzE0OTkwMjE5OTAwMTUzNDUxMg%3D%3D.2-ccb7-5&oh=00_AfAY9mQ9G0foQEYAE6N1Fya5Wjr6wcD4p304IZoM1HzQlA&oe=655E38FE&_nc_sid=b41fef',\n",
       " 'https://instagram.fgyd21-1.fna.fbcdn.net/v/t51.2885-15/361697936_1005744323890274_1797018930195496170_n.jpg?stp=dst-jpg_e35&efg=eyJ2ZW5jb2RlX3RhZyI6ImltYWdlX3VybGdlbi4xNDQweDE0NDAuc2RyIn0&_nc_ht=instagram.fgyd21-1.fna.fbcdn.net&_nc_cat=102&_nc_ohc=DrzrBpo-ZHkAX_wcunX&edm=ABmJApABAAAA&ccb=7-5&ig_cache_key=MzE0ODg5ODIyOTE3MzA4NTU5MA%3D%3D.2-ccb7-5&oh=00_AfC5XSBV-_UBTXuLEotyDg_mCi_eOqCBo_AK7jMxr1_OzQ&oe=655E8628&_nc_sid=b41fef',\n",
       " 'https://instagram.fgyd21-1.fna.fbcdn.net/v/t51.2885-15/361807323_204285258939073_1898295831347463839_n.jpg?stp=dst-jpg_e15&efg=eyJ2ZW5jb2RlX3RhZyI6ImltYWdlX3VybGdlbi43MjB4MTI4MC5zZHIifQ&_nc_ht=instagram.fgyd21-1.fna.fbcdn.net&_nc_cat=101&_nc_ohc=X-JZe8sQwaAAX-s7a4J&edm=ABmJApABAAAA&ccb=7-5&ig_cache_key=MzE0OTE0OTMyNjYwOTY5MTA5Ng%3D%3D.2-ccb7-5&oh=00_AfCyT7aF_6PGsIdHHut38RByVrd58m93VMe7lAvG7So7Vw&oe=655BEAC8&_nc_sid=b41fef',\n",
       " 'https://instagram.fgyd21-1.fna.fbcdn.net/v/t51.2885-15/361899775_7205554572793039_6002533056771825783_n.jpg?stp=dst-jpg_e35&efg=eyJ2ZW5jb2RlX3RhZyI6ImltYWdlX3VybGdlbi4xNDQweDk2MC5zZHIifQ&_nc_ht=instagram.fgyd21-1.fna.fbcdn.net&_nc_cat=107&_nc_ohc=1Q4yMkE-9Q8AX9Amqu7&edm=ABmJApABAAAA&ccb=7-5&ig_cache_key=MzE1MjIyODIzNDA3NzI1MzUyMw%3D%3D.2-ccb7-5&oh=00_AfBcuZFeq-ntLXelx9spu-GglVhrOiNC7Zw_SAyIMoDenQ&oe=655E054B&_nc_sid=b41fef',\n",
       " 'https://instagram.fgyd21-1.fna.fbcdn.net/v/t51.2885-15/362300912_3149644025328549_8429857103099947229_n.jpg?stp=dst-jpg_e15&efg=eyJ2ZW5jb2RlX3RhZyI6ImltYWdlX3VybGdlbi4xMDgweDE5MjAuc2RyIn0&_nc_ht=instagram.fgyd21-1.fna.fbcdn.net&_nc_cat=109&_nc_ohc=GDO11KcaQd8AX_ab9p5&edm=ABmJApABAAAA&ccb=7-5&ig_cache_key=MzE1MTc0Mzg2MjAzNTY0OTc4OA%3D%3D.2-ccb7-5&oh=00_AfC_Qq91Y3qLhoDSyDRTmSwAc0QYvG__zP_I1jbVQ9F0QQ&oe=655BF1C2&_nc_sid=b41fef',\n",
       " 'https://instagram.fgyd21-1.fna.fbcdn.net/v/t51.2885-15/362376714_945675809874443_4222993076768988313_n.jpg?stp=dst-jpg_e15&efg=eyJ2ZW5jb2RlX3RhZyI6ImltYWdlX3VybGdlbi43MjB4MTI4MC5zZHIifQ&_nc_ht=instagram.fgyd21-1.fna.fbcdn.net&_nc_cat=111&_nc_ohc=7fISIwEnFA4AX--xtir&edm=ABmJApABAAAA&ccb=7-5&ig_cache_key=MzE1NDA5MTc5MzI5MzA1NzM1NQ%3D%3D.2-ccb7-5&oh=00_AfB57KAUCbmJ0m3CzXvv-Neg3oMkgmqjeYAC81C2MItleg&oe=655BB246&_nc_sid=b41fef',\n",
       " 'https://instagram.fgyd21-1.fna.fbcdn.net/v/t51.2885-15/362676199_811569790472226_7420859659200938871_n.jpg?stp=dst-jpg_e35&efg=eyJ2ZW5jb2RlX3RhZyI6ImltYWdlX3VybGdlbi4xMjAweDgwMC5zZHIifQ&_nc_ht=instagram.fgyd21-1.fna.fbcdn.net&_nc_cat=106&_nc_ohc=Pw8DMaTxRxYAX9B8IJW&edm=ABmJApABAAAA&ccb=7-5&ig_cache_key=MzE1MzIzNjA1MDY3MTE1MTg4MQ%3D%3D.2-ccb7-5&oh=00_AfCTYr6sN5xtlhQ_kP2vl4xAg9KK7BvETzOSOzIRSUuXYg&oe=655C1792&_nc_sid=b41fef',\n",
       " 'https://instagram.fgyd21-1.fna.fbcdn.net/v/t51.2885-15/363081936_1464004157709860_7461039709925242483_n.jpg?stp=dst-jpg_e35&efg=eyJ2ZW5jb2RlX3RhZyI6ImltYWdlX3VybGdlbi4xNDQweDk2MC5zZHIifQ&_nc_ht=instagram.fgyd21-1.fna.fbcdn.net&_nc_cat=108&_nc_ohc=_MP1NGbaSToAX93y4pV&edm=ABmJApABAAAA&ccb=7-5&ig_cache_key=MzE1NDg4MTI2NzkzMzYxMzY2Mw%3D%3D.2-ccb7-5&oh=00_AfDA3ZaNQLBnFQml1JOlG8geW1ljbQyp7ZetvnoCjtFs6w&oe=655BE4B8&_nc_sid=b41fef',\n",
       " 'https://instagram.fgyd21-1.fna.fbcdn.net/v/t51.2885-15/363493425_617880050150009_5995862203353170212_n.jpg?stp=dst-jpg_e35&efg=eyJ2ZW5jb2RlX3RhZyI6ImltYWdlX3VybGdlbi4xNDQweDE0NDAuc2RyIn0&_nc_ht=instagram.fgyd21-1.fna.fbcdn.net&_nc_cat=105&_nc_ohc=Dom_DIdYjNcAX8oGmXm&edm=ABmJApABAAAA&ccb=7-5&ig_cache_key=MzE1NTA4NjE4MTY5NDE4OTkzNA%3D%3D.2-ccb7-5&oh=00_AfBY2yu1N2lRceJpNy5Hay9OylwXyV5TS7PmsRONPdDS0Q&oe=655ED8B3&_nc_sid=b41fef',\n",
       " 'https://instagram.fgyd21-1.fna.fbcdn.net/v/t51.2885-15/363505528_311591464627337_3397773002966720049_n.jpg?stp=dst-jpg_e35&efg=eyJ2ZW5jb2RlX3RhZyI6ImltYWdlX3VybGdlbi40NTN4MjUxLnNkciJ9&_nc_ht=instagram.fgyd21-1.fna.fbcdn.net&_nc_cat=105&_nc_ohc=LuckvUc6_l8AX8PQ-u4&edm=ABmJApABAAAA&ccb=7-5&ig_cache_key=MzE1Njk3Njg1MTE3MTczMDcxNQ%3D%3D.2-ccb7-5&oh=00_AfBq2y5k43JjZyokoPPxnfcw8rm3_JrIMseIQF_s34redA&oe=655D1A18&_nc_sid=b41fef',\n",
       " 'https://instagram.fgyd21-1.fna.fbcdn.net/v/t51.2885-15/363508085_239983868958774_6827357705492681061_n.jpg?stp=dst-jpg_e35&efg=eyJ2ZW5jb2RlX3RhZyI6ImltYWdlX3VybGdlbi4xNDQweDk2MC5zZHIifQ&_nc_ht=instagram.fgyd21-1.fna.fbcdn.net&_nc_cat=106&_nc_ohc=XGpmHQ5AQpwAX_4V0ON&edm=ABmJApABAAAA&ccb=7-5&ig_cache_key=MzE1NjI4OTQ4MzcxNjQxNDU4Mw%3D%3D.2-ccb7-5&oh=00_AfD0AFNiniN2SrJXqgMgyRDshoQCEWyoaPoChWZPsViQEQ&oe=655E6BBD&_nc_sid=b41fef',\n",
       " 'https://instagram.fgyd21-1.fna.fbcdn.net/v/t51.2885-15/363508204_831780638344613_93690644529583305_n.jpg?stp=dst-jpg_e15&efg=eyJ2ZW5jb2RlX3RhZyI6ImltYWdlX3VybGdlbi43MjB4MTI4MC5zZHIifQ&_nc_ht=instagram.fgyd21-1.fna.fbcdn.net&_nc_cat=105&_nc_ohc=uOBb-Fjc4hUAX-dtt7g&edm=ABmJApABAAAA&ccb=7-5&ig_cache_key=MzE1NzczMzI0NzAyMTc1OTgxMA%3D%3D.2-ccb7-5&oh=00_AfAgEJqcqyod39GaaMiCelXjdbuCg_qk5CcA8kdeAk8Icg&oe=655C9B1F&_nc_sid=b41fef',\n",
       " 'https://instagram.fgyd21-1.fna.fbcdn.net/v/t51.2885-15/364259134_122062210958895_4757070088004519103_n.jpg?stp=dst-jpg_e35&efg=eyJ2ZW5jb2RlX3RhZyI6ImltYWdlX3VybGdlbi4xNDQweDE0NDAuc2RyIn0&_nc_ht=instagram.fgyd21-1.fna.fbcdn.net&_nc_cat=103&_nc_ohc=yTz5NOcUTZwAX9L7ROB&edm=ABmJApABAAAA&ccb=7-5&ig_cache_key=MzE1OTI5NjM3MjI5MzAwODc2OA%3D%3D.2-ccb7-5&oh=00_AfA3b0UqEQh_3n8f3gXHIuflvoc2HOlep-2k5jcQJYneqg&oe=655D0823&_nc_sid=b41fef',\n",
       " 'https://instagram.fgyd21-1.fna.fbcdn.net/v/t51.2885-15/364265863_988699532584807_8706168222988151342_n.jpg?stp=dst-jpg_e35&efg=eyJ2ZW5jb2RlX3RhZyI6ImltYWdlX3VybGdlbi4xMzQ5eDE2ODcuc2RyIn0&_nc_ht=instagram.fgyd21-1.fna.fbcdn.net&_nc_cat=107&_nc_ohc=yAYaGd1AE8IAX8JFLCA&edm=ABmJApABAAAA&ccb=7-5&ig_cache_key=MzE1OTkzMjA2Njk4ODQzNzEzMg%3D%3D.2-ccb7-5&oh=00_AfD_F2vSxshQX7fggmOUzm9QHWsezaWZCfAUkSAiy9ZOjw&oe=655CD567&_nc_sid=b41fef',\n",
       " 'https://instagram.fgyd21-1.fna.fbcdn.net/v/t51.2885-15/364943078_962826448281986_2050446191135935465_n.jpg?stp=dst-jpg_e35&efg=eyJ2ZW5jb2RlX3RhZyI6ImltYWdlX3VybGdlbi4xNDQweDE0NDAuc2RyIn0&_nc_ht=instagram.fgyd21-1.fna.fbcdn.net&_nc_cat=102&_nc_ohc=2gfixUAiPy4AX-p4pY1&edm=ABmJApABAAAA&ccb=7-5&ig_cache_key=MzE2MDk1NDI2NjAyNTU4NjM3OQ%3D%3D.2-ccb7-5&oh=00_AfAS615rPS_XiwV-PF_5LEG5GrGjDll6xjzPFFlfF5gzeg&oe=655EC626&_nc_sid=b41fef',\n",
       " 'https://instagram.fgyd21-1.fna.fbcdn.net/v/t51.2885-15/366138281_1088612895438066_8626852631595790897_n.jpg?stp=dst-jpg_e35&efg=eyJ2ZW5jb2RlX3RhZyI6ImltYWdlX3VybGdlbi4xNDQweDE0NDAuc2RyIn0&_nc_ht=instagram.fgyd21-1.fna.fbcdn.net&_nc_cat=106&_nc_ohc=e_Md_atxeaUAX-fJibO&edm=ABmJApABAAAA&ccb=7-5&ig_cache_key=MzE2NDI1NzAwNTgzMjk4NDE4Mw%3D%3D.2-ccb7-5&oh=00_AfA-4U0Si4TmlXeVtV4bJyAMt2OpAOPiC0WXOAQsvl_aYQ&oe=655D77FF&_nc_sid=b41fef',\n",
       " 'https://instagram.fgyd21-1.fna.fbcdn.net/v/t51.2885-15/366152426_221319893831541_8257559514141974970_n.jpg?stp=dst-jpg_e15&efg=eyJ2ZW5jb2RlX3RhZyI6ImltYWdlX3VybGdlbi43MjB4NDA0LnNkciJ9&_nc_ht=instagram.fgyd21-1.fna.fbcdn.net&_nc_cat=109&_nc_ohc=LYdWDtHDLr4AX96tFVu&edm=ABmJApABAAAA&ccb=7-5&ig_cache_key=MzE2NTUxNjA0ODcxOTI0MDExMw%3D%3D.2-ccb7-5&oh=00_AfDwZEOqKrfMesYfO2XxCudyKjeND4Pe2VzveS_GfzBvEA&oe=655BBA4F&_nc_sid=b41fef',\n",
       " 'https://instagram.fgyd21-1.fna.fbcdn.net/v/t51.2885-15/366416903_846924153098227_2974787650038215840_n.jpg?stp=dst-jpg_e35&efg=eyJ2ZW5jb2RlX3RhZyI6ImltYWdlX3VybGdlbi44NTN4MTA2Ny5zZHIifQ&_nc_ht=instagram.fgyd21-1.fna.fbcdn.net&_nc_cat=107&_nc_ohc=GB0lJPj7JgUAX8N_9Cl&edm=ABmJApABAAAA&ccb=7-5&ig_cache_key=MzE2NjM1NTc4ODEzMzgxOTE0Nw%3D%3D.2-ccb7-5&oh=00_AfCoBd5ZdrZYZ1cyJoFK6HioN-I0_CKrict20vqTaN8apA&oe=655C5EE4&_nc_sid=b41fef',\n",
       " 'https://instagram.fgyd21-1.fna.fbcdn.net/v/t51.2885-15/366925526_320987517013928_8760977953622673596_n.jpg?stp=dst-jpg_e35&efg=eyJ2ZW5jb2RlX3RhZyI6ImltYWdlX3VybGdlbi4xNDQweDE0NDAuc2RyIn0&_nc_ht=instagram.fgyd21-1.fna.fbcdn.net&_nc_cat=108&_nc_ohc=iHCmf-7WUswAX-OEIFr&edm=ABmJApABAAAA&ccb=7-5&ig_cache_key=MzE2NzQ2NDk4MDg1MjcxNDExMQ%3D%3D.2-ccb7-5&oh=00_AfARMU1uHGmWyotFOO9BoFvXZAudeUlfYq0L1ARcLx0Zhw&oe=655E6A60&_nc_sid=b41fef',\n",
       " 'https://instagram.fgyd21-1.fna.fbcdn.net/v/t51.2885-15/367323509_1068087160822721_2970283955458190987_n.jpg?stp=dst-jpg_e15&efg=eyJ2ZW5jb2RlX3RhZyI6ImltYWdlX3VybGdlbi43MjB4MTI4MC5zZHIifQ&_nc_ht=instagram.fgyd21-1.fna.fbcdn.net&_nc_cat=105&_nc_ohc=IAG5z5uqvk4AX_vldLq&edm=ABmJApABAAAA&ccb=7-5&ig_cache_key=MzE2OTI1OTkyMTgxNTg2MjA0MA%3D%3D.2-ccb7-5&oh=00_AfA3HU59jXl9qLGNkH2ZpxJT9ow3X67XudBgloWYqEfpFg&oe=655C0AF7&_nc_sid=b41fef',\n",
       " 'https://instagram.fgyd21-1.fna.fbcdn.net/v/t51.2885-15/367365519_255080897408342_175815185603112817_n.jpg?stp=dst-jpg_e35&efg=eyJ2ZW5jb2RlX3RhZyI6ImltYWdlX3VybGdlbi4xNDQweDE0NDAuc2RyIn0&_nc_ht=instagram.fgyd21-1.fna.fbcdn.net&_nc_cat=102&_nc_ohc=0In207N5ahkAX97EKw6&edm=ABmJApABAAAA&ccb=7-5&ig_cache_key=MzE3MDMwNTk3NDY2MzY4ODYxMw%3D%3D.2-ccb7-5&oh=00_AfDcfK2yXHey8ckye3JxLa7XjUJJXz24AguTmugBSQo8vg&oe=655E9C84&_nc_sid=b41fef',\n",
       " 'https://instagram.fgyd21-1.fna.fbcdn.net/v/t51.2885-15/367996942_820797062767318_6151526740082352984_n.jpg?stp=dst-jpg_e35&efg=eyJ2ZW5jb2RlX3RhZyI6ImltYWdlX3VybGdlbi4xNDQweDE3MDguc2RyIn0&_nc_ht=instagram.fgyd21-1.fna.fbcdn.net&_nc_cat=110&_nc_ohc=yh8MhM3BlrEAX8mRCUI&edm=ABmJApABAAAA&ccb=7-5&ig_cache_key=MzE3MTQwNTAzNjk5ODkyMDQzMw%3D%3D.2-ccb7-5&oh=00_AfBnwLcGXuhk4SZWivUOngwwAAlwXGZ0QrDorhFguW3TVw&oe=655BF7D4&_nc_sid=b41fef',\n",
       " 'https://instagram.fgyd21-1.fna.fbcdn.net/v/t51.2885-15/368158254_846488760234265_8651290116732993684_n.jpg?stp=dst-jpg_e35&efg=eyJ2ZW5jb2RlX3RhZyI6ImltYWdlX3VybGdlbi4xNDQweDk2MC5zZHIifQ&_nc_ht=instagram.fgyd21-1.fna.fbcdn.net&_nc_cat=101&_nc_ohc=8lVjF6IQULoAX-9Jb_k&edm=ABmJApABAAAA&ccb=7-5&ig_cache_key=MzE3MzMxNzY0NjcxOTg4MzMyMQ%3D%3D.2-ccb7-5&oh=00_AfDxwLClPDri9qCATzg6EqwR6sN6Rwzbe96DQ3_WiDKgRg&oe=655EA266&_nc_sid=b41fef',\n",
       " 'https://instagram.fgyd21-1.fna.fbcdn.net/v/t51.2885-15/368422849_1028587101789976_5441850303778715881_n.jpg?stp=dst-jpg_e35&efg=eyJ2ZW5jb2RlX3RhZyI6ImltYWdlX3VybGdlbi4xNDQweDE4MDAuc2RyIn0&_nc_ht=instagram.fgyd21-1.fna.fbcdn.net&_nc_cat=104&_nc_ohc=omQuIs1OnG4AX9899cr&edm=ABmJApABAAAA&ccb=7-5&ig_cache_key=MzE3Mzc2NjUwNDU5MTQwNDk1OA%3D%3D.2-ccb7-5&oh=00_AfBnamtnVzwDPNy2E_wLIvbXZsGh4qgHE_eUKCCtSC-Ikw&oe=655CF0E5&_nc_sid=b41fef',\n",
       " 'https://instagram.fgyd21-1.fna.fbcdn.net/v/t51.2885-15/369146231_1468866847204785_3537149234039008966_n.jpg?stp=dst-jpg_e15&efg=eyJ2ZW5jb2RlX3RhZyI6ImltYWdlX3VybGdlbi44NjR4MTA4MC5zZHIifQ&_nc_ht=instagram.fgyd21-1.fna.fbcdn.net&_nc_cat=109&_nc_ohc=tRolfltyOw0AX_0k9_C&edm=ABmJApABAAAA&ccb=7-5&ig_cache_key=MzE3NDQ4NTM4NTkwNzg5NTQ4MA%3D%3D.2-ccb7-5&oh=00_AfD6DYxsc8xhxbYmbSSqlrvB4hbnIewN7d0g7o2TCPl_4Q&oe=655BE4C8&_nc_sid=b41fef',\n",
       " 'https://instagram.fgyd21-1.fna.fbcdn.net/v/t51.2885-15/369985808_1962517637457713_2101736225350111445_n.jpg?stp=dst-jpg_e35&efg=eyJ2ZW5jb2RlX3RhZyI6ImltYWdlX3VybGdlbi4xNDQweDE0NDAuc2RyIn0&_nc_ht=instagram.fgyd21-1.fna.fbcdn.net&_nc_cat=105&_nc_ohc=qKxW6PxS2sMAX9Xj05j&edm=ABmJApABAAAA&ccb=7-5&ig_cache_key=MzE3NjEzMzMwNzA2MDU3MDEyNw%3D%3D.2-ccb7-5&oh=00_AfDs0Fcu_TCtXDUDry7JxrfL18PZpAg6qksNhQ29Yuv4gQ&oe=655E7A9F&_nc_sid=b41fef',\n",
       " 'https://instagram.fgyd21-1.fna.fbcdn.net/v/t51.2885-15/370841612_285897174071067_8889757317153893432_n.jpg?stp=dst-jpg_e35&efg=eyJ2ZW5jb2RlX3RhZyI6ImltYWdlX3VybGdlbi4xNDQweDEzODcuc2RyIn0&_nc_ht=instagram.fgyd21-1.fna.fbcdn.net&_nc_cat=103&_nc_ohc=UYIpO0wOnNAAX__LFzj&edm=ABmJApABAAAA&ccb=7-5&ig_cache_key=MzE3ODI4NjU4MDQ3NTQ0NzAxMA%3D%3D.2-ccb7-5&oh=00_AfDzoglNd70zowWu6TT_pcT0U6mtxZ7DdCXLU-JkEYX_bg&oe=655E5DCD&_nc_sid=b41fef',\n",
       " 'https://instagram.fgyd21-1.fna.fbcdn.net/v/t51.2885-15/371113217_1013081693367216_6771810311033546574_n.jpg?stp=dst-jpg_e35&efg=eyJ2ZW5jb2RlX3RhZyI6ImltYWdlX3VybGdlbi4xNDQweDE0NDAuc2RyIn0&_nc_ht=instagram.fgyd21-1.fna.fbcdn.net&_nc_cat=100&_nc_ohc=dMSThih98-EAX9ar0T4&edm=ABmJApABAAAA&ccb=7-5&ig_cache_key=MzE4MDM0OTk5MzY2MzA5ODY0OQ%3D%3D.2-ccb7-5&oh=00_AfBW3tMJPFYaCdJ2KtHwNFDeH_OqifvAueqUMGdli-TrJw&oe=655E9A97&_nc_sid=b41fef',\n",
       " 'https://instagram.fgyd21-1.fna.fbcdn.net/v/t51.2885-15/371428113_256641280587000_1704300544712328766_n.jpg?stp=dst-jpg_e15&efg=eyJ2ZW5jb2RlX3RhZyI6ImltYWdlX3VybGdlbi43MjB4MTI4MC5zZHIifQ&_nc_ht=instagram.fgyd21-1.fna.fbcdn.net&_nc_cat=100&_nc_ohc=2GeZ9Qr_0noAX-vg-4T&edm=ABmJApABAAAA&ccb=7-5&ig_cache_key=MzE3OTUxNDc2NDA5ODY3NDM5Mw%3D%3D.2-ccb7-5&oh=00_AfA32jTgf3rYNGjNSsyT3x-022m4EOOE1IwJXWoOKPnX2w&oe=655CA624&_nc_sid=b41fef',\n",
       " 'https://instagram.fgyd21-1.fna.fbcdn.net/v/t51.2885-15/371735475_1937618956640251_1222516596966437660_n.jpg?stp=dst-jpg_e35&efg=eyJ2ZW5jb2RlX3RhZyI6ImltYWdlX3VybGdlbi4xNDQweDE0NDAuc2RyIn0&_nc_ht=instagram.fgyd21-1.fna.fbcdn.net&_nc_cat=107&_nc_ohc=IJX_VRCkv0sAX9Vh0EB&edm=ABmJApABAAAA&ccb=7-5&ig_cache_key=MzE3OTY3NTc2OTg0ODE1NjgyMQ%3D%3D.2-ccb7-5&oh=00_AfBKavhZWYJlYCgybuwknOQPqhvxIliRBSw7yD_GqaXebQ&oe=655D9FBE&_nc_sid=b41fef',\n",
       " 'https://instagram.fgyd21-1.fna.fbcdn.net/v/t51.2885-15/372885232_664668642393592_5550339746034519169_n.jpg?stp=dst-jpg_e15&efg=eyJ2ZW5jb2RlX3RhZyI6ImltYWdlX3VybGdlbi4xMDc4eDYwNi5zZHIifQ&_nc_ht=instagram.fgyd21-1.fna.fbcdn.net&_nc_cat=104&_nc_ohc=TFmCzytt0dMAX9WbdrA&edm=ABmJApABAAAA&ccb=7-5&ig_cache_key=MzE4MjM5MzE0NDYyODM1OTE5MA%3D%3D.2-ccb7-5&oh=00_AfAa4aDRZQMe9mgU2ROxxq_U2oYbkqcmlRiyRjOaDn8BFQ&oe=655CEBE4&_nc_sid=b41fef',\n",
       " 'https://instagram.fgyd21-1.fna.fbcdn.net/v/t51.2885-15/373088915_956216978810110_601703141235153184_n.jpg?stp=dst-jpg_e15&efg=eyJ2ZW5jb2RlX3RhZyI6ImltYWdlX3VybGdlbi45MDB4MTYwMC5zZHIifQ&_nc_ht=instagram.fgyd21-1.fna.fbcdn.net&_nc_cat=110&_nc_ohc=29JKZA_MCJUAX-PgF4L&edm=ABmJApABAAAA&ccb=7-5&ig_cache_key=MzE4MjkwODcwMDMzMDY5MDY5Ng%3D%3D.2-ccb7-5&oh=00_AfCPnwifDc876CGe_UGOCuW4w9DHg58f2t5ppEEWB58O9Q&oe=655CE8A8&_nc_sid=b41fef',\n",
       " 'https://instagram.fgyd21-1.fna.fbcdn.net/v/t51.2885-15/374399758_682947223863293_8451451815211569570_n.jpg?stp=dst-jpg_e35&efg=eyJ2ZW5jb2RlX3RhZyI6ImltYWdlX3VybGdlbi4xNDQweDE4MDAuc2RyIn0&_nc_ht=instagram.fgyd21-1.fna.fbcdn.net&_nc_cat=105&_nc_ohc=rY5VAk30X-YAX_bbPMd&edm=ABmJApABAAAA&ccb=7-5&ig_cache_key=MzE4NDk5MTczMzUxNTAwMTAzNg%3D%3D.2-ccb7-5&oh=00_AfDMiWScejJUeM6UuMKtkf4uD8216WadQ6OyBMUUWUVZqw&oe=655D5EE4&_nc_sid=b41fef',\n",
       " 'https://instagram.fgyd21-1.fna.fbcdn.net/v/t51.2885-15/374590698_110302172175058_8548347260014252432_n.jpg?stp=dst-jpg_e35&efg=eyJ2ZW5jb2RlX3RhZyI6ImltYWdlX3VybGdlbi4xNDQweDE0Mzkuc2RyIn0&_nc_ht=instagram.fgyd21-1.fna.fbcdn.net&_nc_cat=110&_nc_ohc=1V0wV-HAmoMAX_SOdpB&edm=ABmJApABAAAA&ccb=7-5&ig_cache_key=MzE4NDQ3MzU1NzY5ODA4Mzk3Nw%3D%3D.2-ccb7-5&oh=00_AfCgYIpKpWyRit4F9mjvF6zjMqYZPhsRp1kE-4Mh8GjD-g&oe=655DEED7&_nc_sid=b41fef',\n",
       " 'https://instagram.fgyd21-1.fna.fbcdn.net/v/t51.2885-15/374690850_265943502990572_8865523207307591443_n.jpg?stp=dst-jpg_e35&efg=eyJ2ZW5jb2RlX3RhZyI6ImltYWdlX3VybGdlbi4xMDY1eDEwNjUuc2RyIn0&_nc_ht=instagram.fgyd21-1.fna.fbcdn.net&_nc_cat=108&_nc_ohc=yeBDNuhzviYAX9WX9gH&edm=ABmJApABAAAA&ccb=7-5&ig_cache_key=MzE4NTE0ODc4NzM4Mjc0MjY3NQ%3D%3D.2-ccb7-5&oh=00_AfADTneKz7vVO0fIjWLefJKKjSg5ycxcaPqx8UOjuvVU7g&oe=655C664D&_nc_sid=b41fef',\n",
       " 'https://instagram.fgyd21-1.fna.fbcdn.net/v/t51.2885-15/375620616_3174004016239434_8541272098901878754_n.jpg?stp=dst-jpg_e35&efg=eyJ2ZW5jb2RlX3RhZyI6ImltYWdlX3VybGdlbi4xNDQweDE0NDAuc2RyIn0&_nc_ht=instagram.fgyd21-1.fna.fbcdn.net&_nc_cat=106&_nc_ohc=2LROQod904IAX-hqWnG&edm=ABmJApABAAAA&ccb=7-5&ig_cache_key=MzE4NjE3NjQ4Nzc4Njk4MDcxMw%3D%3D.2-ccb7-5&oh=00_AfCggyYbCCZ5Sxw4n_xJFq8TbMDzeUywWEEaPSKJ9PS8gQ&oe=655BA0A5&_nc_sid=b41fef',\n",
       " 'https://instagram.fgyd21-1.fna.fbcdn.net/v/t51.2885-15/376282635_704539818359278_6518050917032171918_n.jpg?stp=dst-jpg_e35&efg=eyJ2ZW5jb2RlX3RhZyI6ImltYWdlX3VybGdlbi4xNDQweDE0NDAuc2RyIn0&_nc_ht=instagram.fgyd21-1.fna.fbcdn.net&_nc_cat=110&_nc_ohc=L_DTZnEkkjAAX_FkdOM&edm=ABmJApABAAAA&ccb=7-5&ig_cache_key=MzE4NzAwNTgwNzY1MDcwMTYwNg%3D%3D.2-ccb7-5&oh=00_AfDnGwAt95dIxlNK_-38BIYG8dLcDHNphPgJHOfdrkfpkw&oe=655CF08C&_nc_sid=b41fef',\n",
       " 'https://instagram.fgyd21-1.fna.fbcdn.net/v/t51.2885-15/377248268_3608756889445518_3226276565609778628_n.jpg?stp=dst-jpg_e35&efg=eyJ2ZW5jb2RlX3RhZyI6ImltYWdlX3VybGdlbi4xNDA4eDEwNjUuc2RyIn0&_nc_ht=instagram.fgyd21-1.fna.fbcdn.net&_nc_cat=106&_nc_ohc=7uqPjqCEpPoAX_6XdNf&edm=ABmJApABAAAA&ccb=7-5&ig_cache_key=MzE5MDUxMDQwNzA5NzE2Mzk5NA%3D%3D.2-ccb7-5&oh=00_AfDZOOyql-QX1ZsJd-Cfq1tXa4-Q-BwWKaJZpuKXm3RMXw&oe=655C7154&_nc_sid=b41fef',\n",
       " 'https://instagram.fgyd21-1.fna.fbcdn.net/v/t51.2885-15/378071463_619851123634381_1261349569203531193_n.jpg?stp=dst-jpg_e35&efg=eyJ2ZW5jb2RlX3RhZyI6ImltYWdlX3VybGdlbi4xMjAweDEyMDAuc2RyIn0&_nc_ht=instagram.fgyd21-1.fna.fbcdn.net&_nc_cat=101&_nc_ohc=zJE8pNOTpVIAX9BR5lS&edm=ABmJApABAAAA&ccb=7-5&ig_cache_key=MzE5MTcyMzE2Nzg2MDQ5MTI1MQ%3D%3D.2-ccb7-5&oh=00_AfA9fniyQN7cjg9FSfd4DZ4NcsP_HP885ZZYyYV-nC32zQ&oe=655C02BF&_nc_sid=b41fef',\n",
       " 'https://instagram.fgyd21-1.fna.fbcdn.net/v/t51.2885-15/378536506_841593027572683_1722474486399599762_n.jpg?stp=dst-jpg_e35&efg=eyJ2ZW5jb2RlX3RhZyI6ImltYWdlX3VybGdlbi4xNDQweDE0NDAuc2RyIn0&_nc_ht=instagram.fgyd21-1.fna.fbcdn.net&_nc_cat=107&_nc_ohc=D6YQxlvN6vgAX9KEjAb&edm=ABmJApABAAAA&ccb=7-5&ig_cache_key=MzE5MTE1MzM0MjQ1Mjg3MzEyMw%3D%3D.2-ccb7-5&oh=00_AfDGxUUU5HJT3M0i9I8L3bRF9Yb_S3e2Er76BF7ppz2HsA&oe=655C5B3A&_nc_sid=b41fef',\n",
       " 'https://instagram.fgyd21-1.fna.fbcdn.net/v/t51.2885-15/379786517_1021331162335754_8641860569345775034_n.jpg?stp=dst-jpg_e35&efg=eyJ2ZW5jb2RlX3RhZyI6ImltYWdlX3VybGdlbi4xMDgweDEwODAuc2RyIn0&_nc_ht=instagram.fgyd21-1.fna.fbcdn.net&_nc_cat=102&_nc_ohc=1hnZ5IjtWf8AX8mgKaQ&edm=ABmJApABAAAA&ccb=7-5&ig_cache_key=MzE5NDUwNjIyODY2MjU2MDk4NQ%3D%3D.2-ccb7-5&oh=00_AfBmGaf4xSsD7fQmhrb3ZeB09pXMlC_0E1B2XN421TbAiQ&oe=655CB98F&_nc_sid=b41fef',\n",
       " 'https://instagram.fgyd21-1.fna.fbcdn.net/v/t51.2885-15/384113057_853678442859420_3774525413266000544_n.jpg?stp=dst-jpg_e15&efg=eyJ2ZW5jb2RlX3RhZyI6ImltYWdlX3VybGdlbi43MjB4MTI4MC5zZHIifQ&_nc_ht=instagram.fgyd21-1.fna.fbcdn.net&_nc_cat=100&_nc_ohc=HGOHqCOXt4gAX-RsX0x&edm=ABmJApABAAAA&ccb=7-5&ig_cache_key=MzIwMjUzNTQyMDMxMDU3NjQwNA%3D%3D.2-ccb7-5&oh=00_AfBIeWRbJNbJwXzLO0lBmljTfWUR05Fp6TpTZo6SSL5xAw&oe=655C6B48&_nc_sid=b41fef',\n",
       " 'https://instagram.fgyd21-1.fna.fbcdn.net/v/t51.2885-15/384496438_340201415249348_8190062954188505427_n.jpg?stp=dst-jpg_e35&efg=eyJ2ZW5jb2RlX3RhZyI6ImltYWdlX3VybGdlbi4xMzY1eDkxMC5zZHIifQ&_nc_ht=instagram.fgyd21-1.fna.fbcdn.net&_nc_cat=108&_nc_ohc=e1mSQCEAtQkAX-sTnC9&edm=ABmJApABAAAA&ccb=7-5&ig_cache_key=MzIwMjgzOTMwMzAyMDgxNDQyMQ%3D%3D.2-ccb7-5&oh=00_AfBQr2gB5lv3oyzNoRR75lvIzN784aSFynlwksTYkK_Mwg&oe=655E39B3&_nc_sid=b41fef',\n",
       " 'https://instagram.fgyd21-1.fna.fbcdn.net/v/t51.2885-15/384945933_2039661463064354_3717238408680780823_n.jpg?stp=dst-jpg_e35&efg=eyJ2ZW5jb2RlX3RhZyI6ImltYWdlX3VybGdlbi41NzV4NTc1LnNkciJ9&_nc_ht=instagram.fgyd21-1.fna.fbcdn.net&_nc_cat=102&_nc_ohc=vH1PCLXQaoUAX_6GFdN&edm=ABmJApABAAAA&ccb=7-5&ig_cache_key=MzIwNDAxNjUwNDU5MjQwODI5Nw%3D%3D.2-ccb7-5&oh=00_AfD7p7lE6KpXbSwF51vjN91T1QaY4LafKL09JKlTMR59_w&oe=655C0CD2&_nc_sid=b41fef',\n",
       " 'https://instagram.fgyd21-1.fna.fbcdn.net/v/t51.2885-15/385245629_715614190383441_6431395704104364586_n.jpg?stp=dst-jpg_e15&efg=eyJ2ZW5jb2RlX3RhZyI6ImltYWdlX3VybGdlbi4xMDgweDE5MjAuc2RyIn0&_nc_ht=instagram.fgyd21-1.fna.fbcdn.net&_nc_cat=109&_nc_ohc=aaQ6R_VJgOMAX_03K7m&edm=ABmJApABAAAA&ccb=7-5&ig_cache_key=MzIwNDY2OTg3OTkyMzQxMDYwNw%3D%3D.2-ccb7-5&oh=00_AfDbXMJQ4C_pUpnshisw7iF8QF4dEixdjGmY8V_Fi8iojA&oe=655C9463&_nc_sid=b41fef',\n",
       " 'https://instagram.fgyd21-1.fna.fbcdn.net/v/t51.2885-15/385899752_183847458015697_1984597251343445560_n.jpg?stp=dst-jpg_e15&efg=eyJ2ZW5jb2RlX3RhZyI6ImltYWdlX3VybGdlbi43MjB4MTI4MC5zZHIifQ&_nc_ht=instagram.fgyd21-1.fna.fbcdn.net&_nc_cat=101&_nc_ohc=Id-axx6bnlMAX8FTtQY&edm=ABmJApABAAAA&ccb=7-5&ig_cache_key=MzIwNzE1MTI4NDQ3NzIzOTY3Ng%3D%3D.2-ccb7-5&oh=00_AfBmhzCzogFUg87u_yGsneTEK-s-ImcYY4IIbhYlqVvVvA&oe=655CA11A&_nc_sid=b41fef',\n",
       " 'https://instagram.fgyd21-1.fna.fbcdn.net/v/t51.2885-15/386186128_694239135916272_7825820484073618404_n.jpg?stp=dst-jpg_e15&efg=eyJ2ZW5jb2RlX3RhZyI6ImltYWdlX3VybGdlbi4xMDgweDcyMC5zZHIifQ&_nc_ht=instagram.fgyd21-1.fna.fbcdn.net&_nc_cat=100&_nc_ohc=gRhakf44NBQAX8atytw&edm=ABmJApABAAAA&ccb=7-5&ig_cache_key=MzIwNTQ1Mjc2Mzg1MjM2NDE3Ng%3D%3D.2-ccb7-5&oh=00_AfAZ9l8TI_ayBeOloErKFk5N_l7M3FgsfykndNGvWc0nPg&oe=655D7F88&_nc_sid=b41fef',\n",
       " 'https://instagram.fgyd21-1.fna.fbcdn.net/v/t51.2885-15/386897836_1365390797661456_9222759454031720408_n.jpg?stp=dst-jpg_e15&efg=eyJ2ZW5jb2RlX3RhZyI6ImltYWdlX3VybGdlbi43MjB4MTI4MC5zZHIifQ&_nc_ht=instagram.fgyd21-1.fna.fbcdn.net&_nc_cat=100&_nc_ohc=zN8wXcgxbksAX-pBP0D&edm=ABmJApABAAAA&ccb=7-5&ig_cache_key=MzIwOTg4MTExODU0NjgyMzc2OQ%3D%3D.2-ccb7-5&oh=00_AfCfmB-o1EX5EcYWKhs3uQBAuUvwpW7e4Q3MQCp0dA-Pmg&oe=655CD5E6&_nc_sid=b41fef',\n",
       " 'https://instagram.fgyd21-1.fna.fbcdn.net/v/t51.2885-15/387719875_286565510939711_8630106411988814322_n.jpg?stp=dst-jpg_e35&efg=eyJ2ZW5jb2RlX3RhZyI6ImltYWdlX3VybGdlbi4xNDQweDE4MDAuc2RyIn0&_nc_ht=instagram.fgyd21-1.fna.fbcdn.net&_nc_cat=1&_nc_ohc=sednTFmOaHkAX9N8Yyg&edm=ABmJApABAAAA&ccb=7-5&ig_cache_key=MzIxMDU0Njk2MDQzOTU5Nzk3Mw%3D%3D.2-ccb7-5&oh=00_AfCSo64QENQNbYUedWLSDAx_eA05ihpnlPS2P7jVVlwmAw&oe=655E9AF5&_nc_sid=b41fef',\n",
       " 'https://instagram.fgyd21-1.fna.fbcdn.net/v/t51.2885-15/391146299_287575077475762_8444643157536406284_n.jpg?stp=dst-jpg_e35&efg=eyJ2ZW5jb2RlX3RhZyI6ImltYWdlX3VybGdlbi4xNDQweDEyMTIuc2RyIn0&_nc_ht=instagram.fgyd21-1.fna.fbcdn.net&_nc_cat=1&_nc_ohc=6f84eb2cq8UAX9w-yZ1&edm=ABmJApABAAAA&ccb=7-5&ig_cache_key=MzIxMjY2NjYzODc0NjAyNDIxMA%3D%3D.2-ccb7-5&oh=00_AfBQ6VuTYKd3eb1jGk489bqvyFBBAs6LdWLdrAoEafBKfw&oe=655DD451&_nc_sid=b41fef',\n",
       " 'https://instagram.fgyd21-1.fna.fbcdn.net/v/t51.2885-15/392769711_1003878450831419_143190673005547976_n.jpg?stp=dst-jpg_e35&efg=eyJ2ZW5jb2RlX3RhZyI6ImltYWdlX3VybGdlbi4xNDQweDE0NDAuc2RyIn0&_nc_ht=instagram.fgyd21-1.fna.fbcdn.net&_nc_cat=1&_nc_ohc=ZEjBUM727fMAX_jTbeP&edm=ABmJApABAAAA&ccb=7-5&ig_cache_key=MzIxNjA1MTMyMDk3NjQwNzgyNw%3D%3D.2-ccb7-5&oh=00_AfBk3c54B-ByD2RqieQ-RFnyHYx3U5aIl37y1N7V1sFSsg&oe=655E7132&_nc_sid=b41fef',\n",
       " 'https://instagram.fgyd21-1.fna.fbcdn.net/v/t51.2885-15/392831424_305742658979441_1125767419780792918_n.jpg?stp=dst-jpg_e15&efg=eyJ2ZW5jb2RlX3RhZyI6ImltYWdlX3VybGdlbi43MjB4MTI4MC5zZHIifQ&_nc_ht=instagram.fgyd21-1.fna.fbcdn.net&_nc_cat=1&_nc_ohc=ETzvPwyWjG0AX9bqMar&edm=ABmJApABAAAA&ccb=7-5&ig_cache_key=MzIxNDI1MzI3OTgyNzgzNjY0MA%3D%3D.2-ccb7-5&oh=00_AfDGnY1-wLOVEgPFAiYZOLFT34F7uTWAudCR5S2otO6jJg&oe=655BAD11&_nc_sid=b41fef',\n",
       " 'https://instagram.fgyd21-1.fna.fbcdn.net/v/t51.2885-15/393565050_882802650089101_7946577894485605445_n.jpg?stp=dst-jpg_e15&efg=eyJ2ZW5jb2RlX3RhZyI6ImltYWdlX3VybGdlbi43MjB4MTI4MC5zZHIifQ&_nc_ht=instagram.fgyd21-1.fna.fbcdn.net&_nc_cat=1&_nc_ohc=pdq8adPzd5cAX-XyIJm&edm=ABmJApABAAAA&ccb=7-5&ig_cache_key=MzIxNzkzOTY0OTE2NjM5NjA2OA%3D%3D.2-ccb7-5&oh=00_AfBe_PYmQhGy4YGQy8lUXmBXhgzceHstY_hMcBUr55wKnQ&oe=655C1FCF&_nc_sid=b41fef',\n",
       " 'https://instagram.fgyd21-1.fna.fbcdn.net/v/t51.2885-15/393976237_655503296719633_5278172467762928024_n.jpg?stp=dst-jpg_e35&efg=eyJ2ZW5jb2RlX3RhZyI6ImltYWdlX3VybGdlbi4xNDQweDE0NDAuc2RyIn0&_nc_ht=instagram.fgyd21-1.fna.fbcdn.net&_nc_cat=1&_nc_ohc=kqpG9xDEAUQAX_saTPA&edm=ABmJApABAAAA&ccb=7-5&ig_cache_key=MzIxOTM1NDI5MzQ1MDAxOTUyMQ%3D%3D.2-ccb7-5&oh=00_AfC1zudXd8sbaD8qcMzqi_ygCmcn33zJSwE28ltkniqOiw&oe=655DC2D2&_nc_sid=b41fef',\n",
       " 'https://instagram.fgyd21-1.fna.fbcdn.net/v/t51.2885-15/394377649_993721545040279_7415966351686748208_n.jpg?stp=dst-jpg_e35&efg=eyJ2ZW5jb2RlX3RhZyI6ImltYWdlX3VybGdlbi4xNDQweDE0NDAuc2RyIn0&_nc_ht=instagram.fgyd21-1.fna.fbcdn.net&_nc_cat=1&_nc_ohc=r3SScSWgvtgAX8kkhBV&edm=ABmJApABAAAA&ccb=7-5&ig_cache_key=MzIyMDE3MjA4MjMyNzE3Mjk2MQ%3D%3D.2-ccb7-5&oh=00_AfAOOsTLQk06sx8mJBrUwo08MevW5Z4C7_TmHHJUVP80Bw&oe=655E87CC&_nc_sid=b41fef',\n",
       " 'https://instagram.fgyd21-1.fna.fbcdn.net/v/t51.2885-15/395226967_1488730501963736_8894355300209970080_n.jpg?stp=dst-jpg_e15&efg=eyJ2ZW5jb2RlX3RhZyI6ImltYWdlX3VybGdlbi4xMDgweDYwOC5zZHIifQ&_nc_ht=instagram.fgyd21-1.fna.fbcdn.net&_nc_cat=1&_nc_ohc=miQGApxNex8AX81Ubbj&edm=ABmJApABAAAA&ccb=7-5&ig_cache_key=MzIyMTU0NTg4Njc5NzkyMTM3Ng%3D%3D.2-ccb7-5&oh=00_AfA7PiZMl9eEPqzm1O_P7WKRS6Wknva-lZwkeJ3rnUtxxg&oe=655CEF89&_nc_sid=b41fef',\n",
       " 'https://instagram.fgyd21-1.fna.fbcdn.net/v/t51.2885-15/395238649_1388619095422281_4593276208998916745_n.jpg?stp=dst-jpg_e15&efg=eyJ2ZW5jb2RlX3RhZyI6ImltYWdlX3VybGdlbi43MjB4NDA1LnNkciJ9&_nc_ht=instagram.fgyd21-1.fna.fbcdn.net&_nc_cat=1&_nc_ohc=Ka6R1MHP7WEAX_yzJEg&edm=ABmJApABAAAA&ccb=7-5&ig_cache_key=MzIxOTk0NzU5MDMxNjgxOTI2NQ%3D%3D.2-ccb7-5&oh=00_AfABZQd4cmWsmcibFYL_47W0rPVUUNZ2MJ0jjt92wS7s9w&oe=655C2702&_nc_sid=b41fef',\n",
       " 'https://instagram.fgyd21-1.fna.fbcdn.net/v/t51.2885-15/395346338_3564290317142226_2467365687441859120_n.jpg?stp=dst-jpg_e15&efg=eyJ2ZW5jb2RlX3RhZyI6ImltYWdlX3VybGdlbi43MjB4MTI4MC5zZHIifQ&_nc_ht=instagram.fgyd21-1.fna.fbcdn.net&_nc_cat=1&_nc_ohc=UD57-FtasKgAX-9hdy4&edm=ABmJApABAAAA&ccb=7-5&ig_cache_key=MzIyMjY5OTk3NTk0MjQ4NzQzMg%3D%3D.2-ccb7-5&oh=00_AfDl4NlCHC8DyzAeJpafjnhSXiGQx2cp0fWjodczEeg--A&oe=655C6BAE&_nc_sid=b41fef',\n",
       " 'https://instagram.fgyd21-1.fna.fbcdn.net/v/t51.2885-15/395695785_24290061850608082_2680407617053998728_n.jpg?stp=dst-jpg_e15&efg=eyJ2ZW5jb2RlX3RhZyI6ImltYWdlX3VybGdlbi43MjB4MTI4MC5zZHIifQ&_nc_ht=instagram.fgyd21-1.fna.fbcdn.net&_nc_cat=110&_nc_ohc=890vCU9q2DwAX-qQaWb&edm=ABmJApABAAAA&ccb=7-5&ig_cache_key=MzIyMjIwODYwNTgwNTAyODEwMQ%3D%3D.2-ccb7-5&oh=00_AfA4f9bNCwk1RQTBd2MezeXGiSbMbjVv3MzciN90tCHrsA&oe=655CA993&_nc_sid=b41fef',\n",
       " 'https://instagram.fgyd21-1.fna.fbcdn.net/v/t51.2885-15/396694406_898271341727390_7093294633082937164_n.jpg?stp=dst-jpg_e35&efg=eyJ2ZW5jb2RlX3RhZyI6ImltYWdlX3VybGdlbi4xMDgweDEwODAuc2RyIn0&_nc_ht=instagram.fgyd21-1.fna.fbcdn.net&_nc_cat=1&_nc_ohc=enliZx7eRHsAX_z93bJ&edm=ABmJApABAAAA&ccb=7-5&ig_cache_key=MzIyNDIyODY0NTgzNjI5NTczNA%3D%3D.2-ccb7-5&oh=00_AfC9z9eHbhGIec5jB5cXuWaiNKyyS-DhlB78JfPmhlx6pg&oe=655BC13E&_nc_sid=b41fef',\n",
       " 'https://instagram.fgyd21-1.fna.fbcdn.net/v/t51.2885-15/396694421_843133104127330_4135330855598834966_n.jpg?stp=dst-jpg_e35&efg=eyJ2ZW5jb2RlX3RhZyI6ImltYWdlX3VybGdlbi4xNDQweDE0NDAuc2RyIn0&_nc_ht=instagram.fgyd21-1.fna.fbcdn.net&_nc_cat=1&_nc_ohc=sDhp_0LWUm0AX_m8thD&edm=ACWDqb8BAAAA&ccb=7-5&ig_cache_key=MzIyNTU2MzUxMzM2NzE5NDg4MQ%3D%3D.2-ccb7-5&oh=00_AfBl_zHhmAR2mnNglAD1a8H6tC228Sy8ZyeYAnmKYqcp3A&oe=655DEE3D&_nc_sid=ee9879',\n",
       " 'https://instagram.fgyd21-1.fna.fbcdn.net/v/t51.2885-15/397128194_1368423350717641_6337061259981728134_n.jpg?stp=dst-jpg_e35&efg=eyJ2ZW5jb2RlX3RhZyI6ImltYWdlX3VybGdlbi4xNDQweDE4MDAuc2RyIn0&_nc_ht=instagram.fgyd21-1.fna.fbcdn.net&_nc_cat=1&_nc_ohc=RB62RC9IRTAAX8jRATH&edm=ABmJApABAAAA&ccb=7-5&ig_cache_key=MzIyNTI2NDQ5MjU1MTU2MDg2OA%3D%3D.2-ccb7-5&oh=00_AfByKaJWV3gCFw3ZIzju3b9RK38az5kFNORWLBy69yHDjQ&oe=655E45C3&_nc_sid=b41fef',\n",
       " 'https://instagram.fgyd21-1.fna.fbcdn.net/v/t51.2885-15/397186401_859003539104766_2545906443592697415_n.jpg?stp=dst-jpg_e35&efg=eyJ2ZW5jb2RlX3RhZyI6ImltYWdlX3VybGdlbi4xNDQweDE0NDAuc2RyIn0&_nc_ht=instagram.fgyd21-1.fna.fbcdn.net&_nc_cat=1&_nc_ohc=npLH4MejL_AAX_WCjRh&edm=ACWDqb8BAAAA&ccb=7-5&ig_cache_key=MzIyNjQ0MDgzNTY1ODMzODU5Nw%3D%3D.2-ccb7-5&oh=00_AfAIeMSGUhu0rd21nsWar0bt8Qq9HmhtXkv-FXCwKyCiow&oe=655D0700&_nc_sid=ee9879',\n",
       " 'https://instagram.fgyd21-1.fna.fbcdn.net/v/t51.2885-15/397583172_182476231580309_8945622680533423023_n.jpg?stp=dst-jpg_e35&efg=eyJ2ZW5jb2RlX3RhZyI6ImltYWdlX3VybGdlbi4xMTQxeDEwMDUuc2RyIn0&_nc_ht=instagram.fgyd21-1.fna.fbcdn.net&_nc_cat=1&_nc_ohc=7AYp6YidyoAAX-3O00Y&edm=ACWDqb8BAAAA&ccb=7-5&ig_cache_key=MzIyNzE3NzIxNjU1ODUxMzE2Mw%3D%3D.2-ccb7-5&oh=00_AfCelHTBkzUKPJMDe6JMcwGOb51ujtABza4afeEobLkMjQ&oe=655D9454&_nc_sid=ee9879',\n",
       " 'https://instagram.fgyd21-1.fna.fbcdn.net/v/t51.2885-15/397995136_1946922559025363_3437870941207704424_n.jpg?stp=dst-jpg_e15&efg=eyJ2ZW5jb2RlX3RhZyI6ImltYWdlX3VybGdlbi43MjB4MTI4MC5zZHIifQ&_nc_ht=instagram.fgyd21-1.fna.fbcdn.net&_nc_cat=1&_nc_ohc=8yVYc2H9pNoAX-S6p6F&edm=ACWDqb8BAAAA&ccb=7-5&ig_cache_key=MzIyNjY2ODQ4OTg3OTQ1MjIzODM1MDI2NDc4NDEzMDc3OA%3D%3D.2-ccb7-5&oh=00_AfA0WwP-qdoZYSRrEwtU12V2VIOKvQ8WZpuRmVNP1yzjGg&oe=655BB78F&_nc_sid=ee9879',\n",
       " 'https://instagram.fgyd21-1.fna.fbcdn.net/v/t51.2885-15/398286277_1288024911906328_8404492526113138455_n.jpg?stp=dst-jpg_e15&efg=eyJ2ZW5jb2RlX3RhZyI6ImltYWdlX3VybGdlbi43MjB4MTI4MC5zZHIifQ&_nc_ht=instagram.fgyd21-1.fna.fbcdn.net&_nc_cat=1&_nc_ohc=E0jtxyJUwiMAX-BcW8p&edm=ACWDqb8BAAAA&ccb=7-5&ig_cache_key=MzIyODU5NTM1OTU0NTg5NTAwNA%3D%3D.2-ccb7-5&oh=00_AfDaf1-d6X1PgWhMS4tom1qbbG-zOgrUjs_ToRdo8O5vUA&oe=655BF964&_nc_sid=ee9879',\n",
       " 'https://instagram.fgyd21-1.fna.fbcdn.net/v/t51.2885-15/400107019_358816723342694_8304529776988652578_n.jpg?stp=dst-jpg_e15&efg=eyJ2ZW5jb2RlX3RhZyI6ImltYWdlX3VybGdlbi4xMDgweDE5MjAuc2RyIn0&_nc_ht=instagram.fgyd21-1.fna.fbcdn.net&_nc_cat=1&_nc_ohc=O71epzU5mKEAX9Krr-D&edm=ACWDqb8BAAAA&ccb=7-5&ig_cache_key=MzIzMjM0NDA4NTI4NDUwNjkzNQ%3D%3D.2-ccb7-5&oh=00_AfALQLm7g-y1NELWbFoDHNjpbHTCgiH6aXGBCsZYTOaQ5A&oe=655C3D40&_nc_sid=ee9879',\n",
       " 'https://instagram.fgyd21-1.fna.fbcdn.net/v/t51.2885-15/400470290_1785869995216715_6280452337766216292_n.jpg?stp=dst-jpg_e35&efg=eyJ2ZW5jb2RlX3RhZyI6ImltYWdlX3VybGdlbi4xNDQweDk2Mi5zZHIifQ&_nc_ht=instagram.fgyd21-1.fna.fbcdn.net&_nc_cat=111&_nc_ohc=JFwkirMskXcAX_SGX-z&edm=ACWDqb8BAAAA&ccb=7-5&ig_cache_key=MzIzMzgwNzc4NDk4OTcyMjc0Mw%3D%3D.2-ccb7-5&oh=00_AfA1nEdwEZAFKiVK7TJBdp2SbWWh7Oo3JPKddpficbmQhg&oe=655D55CA&_nc_sid=ee9879',\n",
       " 'https://instagram.fgyd21-1.fna.fbcdn.net/v/t51.2885-15/401194201_7010993002282960_1194525440576078398_n.jpg?stp=dst-jpg_e15&efg=eyJ2ZW5jb2RlX3RhZyI6ImltYWdlX3VybGdlbi42MDh4MTA4MC5zZHIifQ&_nc_ht=instagram.fgyd21-1.fna.fbcdn.net&_nc_cat=1&_nc_ohc=y6w5h1cgQRIAX_KdtbY&edm=ACWDqb8BAAAA&ccb=7-5&ig_cache_key=MzIzNTE1ODczODc4Mzc4MjIzNTc2NDg3MzQ2NTQ1MzU5Mw%3D%3D.2-ccb7-5&oh=00_AfA0I5PpZ2kCriM4VcS_Y75aqpX3P0CK-COfB6GbCxCipQ&oe=655BE0EB&_nc_sid=ee9879',\n",
       " 'https://instagram.fgyd21-1.fna.fbcdn.net/v/t51.2885-15/401897939_1045154963301025_5106976187773848785_n.jpg?stp=dst-jpg_e35&efg=eyJ2ZW5jb2RlX3RhZyI6ImltYWdlX3VybGdlbi4xNDQweDE0NDAuc2RyIn0&_nc_ht=instagram.fgyd21-1.fna.fbcdn.net&_nc_cat=1&_nc_ohc=esT_x5lHeT0AX9IJQCM&edm=ACWDqb8BAAAA&ccb=7-5&ig_cache_key=MzIzNDUzNzA1ODI3MzI1NzYxNQ%3D%3D.2-ccb7-5&oh=00_AfAebXjTRa2v5QMlAve2Ox3Hx8y9cgN0wG9NLTKgJocoBQ&oe=655C0EF8&_nc_sid=ee9879',\n",
       " 'https://instagram.fgyd21-1.fna.fbcdn.net/v/t51.2885-15/402350508_733717821944699_5520100089871119535_n.jpg?stp=dst-jpg_e35&efg=eyJ2ZW5jb2RlX3RhZyI6ImltYWdlX3VybGdlbi4xNDQweDE0NDAuc2RyIn0&_nc_ht=instagram.fgyd21-1.fna.fbcdn.net&_nc_cat=1&_nc_ohc=JoXPtcfTREcAX9nsVGe&edm=ACWDqb8BAAAA&ccb=7-5&ig_cache_key=MzIzNjkyMTcwMDE0MTQwMDIwOA%3D%3D.2-ccb7-5&oh=00_AfAEYVPwYIuPMOSJ5VMl_aP5617J6daiRFYieKLcl-VIeA&oe=655BC20D&_nc_sid=ee9879',\n",
       " 'https://instagram.fgyd21-1.fna.fbcdn.net/v/t51.2885-15/402562150_793710235860802_7087358692581388803_n.jpg?stp=dst-jpg_e35&efg=eyJ2ZW5jb2RlX3RhZyI6ImltYWdlX3VybGdlbi4xNDQweDE4MDAuc2RyIn0&_nc_ht=instagram.fgyd21-1.fna.fbcdn.net&_nc_cat=1&_nc_ohc=q4g7fWF6ICwAX8MQAFM&edm=ACWDqb8BAAAA&ccb=7-5&ig_cache_key=MzIzNTMzNTgwOTMyODU3Mzk0MQ%3D%3D.2-ccb7-5&oh=00_AfDQtt6jKXrjGNMo8zK3yDQ0TDhCgwtaBsSKO71IcORIoQ&oe=655D4732&_nc_sid=ee9879',\n",
       " 'https://instagram.fgyd21-1.fna.fbcdn.net/v/t51.2885-15/403713273_286516097102249_133885333342392148_n.jpg?stp=dst-jpg_e15&efg=eyJ2ZW5jb2RlX3RhZyI6ImltYWdlX3VybGdlbi43MjB4MTI4MC5zZHIifQ&_nc_ht=instagram.fgyd21-1.fna.fbcdn.net&_nc_cat=1&_nc_ohc=b5F1G8i6vEMAX-EnSWk&edm=ACWDqb8BAAAA&ccb=7-5&ig_cache_key=MzIzODkwNDE3MzExNzcwMTY0Nw%3D%3D.2-ccb7-5&oh=00_AfB5TiqbszPMwmIRFQJNtDkn6kRvtAEStMGM55ichYNZrg&oe=655CB54B&_nc_sid=ee9879'}"
      ]
     },
     "execution_count": 15,
     "metadata": {},
     "output_type": "execute_result"
    }
   ],
   "source": [
    "account_images"
   ]
  },
  {
   "cell_type": "code",
   "execution_count": 16,
   "metadata": {},
   "outputs": [
    {
     "ename": "ValueError",
     "evalue": "not enough values to unpack (expected 2, got 1)",
     "output_type": "error",
     "traceback": [
      "\u001b[1;31m---------------------------------------------------------------------------\u001b[0m",
      "\u001b[1;31mValueError\u001b[0m                                Traceback (most recent call last)",
      "\u001b[1;32mc:\\Users\\ASUS\\Desktop\\selenium dersleri\\instagram_scraping.ipynb Cell 15\u001b[0m line \u001b[0;36m3\n\u001b[0;32m      <a href='vscode-notebook-cell:/c%3A/Users/ASUS/Desktop/selenium%20dersleri/instagram_scraping.ipynb#X16sZmlsZQ%3D%3D?line=0'>1</a>\u001b[0m \u001b[39m# Downloading the images to the specified folder\u001b[39;00m\n\u001b[0;32m      <a href='vscode-notebook-cell:/c%3A/Users/ASUS/Desktop/selenium%20dersleri/instagram_scraping.ipynb#X16sZmlsZQ%3D%3D?line=1'>2</a>\u001b[0m \u001b[39mfor\u001b[39;00m image \u001b[39min\u001b[39;00m account_images:\n\u001b[1;32m----> <a href='vscode-notebook-cell:/c%3A/Users/ASUS/Desktop/selenium%20dersleri/instagram_scraping.ipynb#X16sZmlsZQ%3D%3D?line=2'>3</a>\u001b[0m     wget\u001b[39m.\u001b[39;49mdownload(image, dest_loc)   \u001b[39m# downloading the images to the specified folder (dest_loc).\u001b[39;00m\n",
      "File \u001b[1;32m~\\AppData\\Local\\Packages\\PythonSoftwareFoundation.Python.3.11_qbz5n2kfra8p0\\LocalCache\\local-packages\\Python311\\site-packages\\wget.py:533\u001b[0m, in \u001b[0;36mdownload\u001b[1;34m(url, out, bar)\u001b[0m\n\u001b[0;32m    531\u001b[0m \u001b[39m# add numeric ' (x)' suffix if filename already exists\u001b[39;00m\n\u001b[0;32m    532\u001b[0m \u001b[39mif\u001b[39;00m os\u001b[39m.\u001b[39mpath\u001b[39m.\u001b[39mexists(filename):\n\u001b[1;32m--> 533\u001b[0m     filename \u001b[39m=\u001b[39m filename_fix_existing(filename)\n\u001b[0;32m    534\u001b[0m shutil\u001b[39m.\u001b[39mmove(tmpfile, filename)\n\u001b[0;32m    536\u001b[0m \u001b[39m#print headers\u001b[39;00m\n",
      "File \u001b[1;32m~\\AppData\\Local\\Packages\\PythonSoftwareFoundation.Python.3.11_qbz5n2kfra8p0\\LocalCache\\local-packages\\Python311\\site-packages\\wget.py:269\u001b[0m, in \u001b[0;36mfilename_fix_existing\u001b[1;34m(filename)\u001b[0m\n\u001b[0;32m    265\u001b[0m \u001b[39m\u001b[39m\u001b[39m\"\"\"Expands name portion of filename with numeric ' (x)' suffix to\u001b[39;00m\n\u001b[0;32m    266\u001b[0m \u001b[39mreturn filename that doesn't exist already.\u001b[39;00m\n\u001b[0;32m    267\u001b[0m \u001b[39m\"\"\"\u001b[39;00m\n\u001b[0;32m    268\u001b[0m dirname \u001b[39m=\u001b[39m \u001b[39mu\u001b[39m\u001b[39m'\u001b[39m\u001b[39m.\u001b[39m\u001b[39m'\u001b[39m\n\u001b[1;32m--> 269\u001b[0m name, ext \u001b[39m=\u001b[39m filename\u001b[39m.\u001b[39mrsplit(\u001b[39m'\u001b[39m\u001b[39m.\u001b[39m\u001b[39m'\u001b[39m, \u001b[39m1\u001b[39m)\n\u001b[0;32m    270\u001b[0m names \u001b[39m=\u001b[39m [x \u001b[39mfor\u001b[39;00m x \u001b[39min\u001b[39;00m os\u001b[39m.\u001b[39mlistdir(dirname) \u001b[39mif\u001b[39;00m x\u001b[39m.\u001b[39mstartswith(name)]\n\u001b[0;32m    271\u001b[0m names \u001b[39m=\u001b[39m [x\u001b[39m.\u001b[39mrsplit(\u001b[39m'\u001b[39m\u001b[39m.\u001b[39m\u001b[39m'\u001b[39m, \u001b[39m1\u001b[39m)[\u001b[39m0\u001b[39m] \u001b[39mfor\u001b[39;00m x \u001b[39min\u001b[39;00m names]\n",
      "\u001b[1;31mValueError\u001b[0m: not enough values to unpack (expected 2, got 1)"
     ]
    }
   ],
   "source": [
    "# Downloading the images to the specified folder\n",
    "for image in account_images:\n",
    "    wget.download(image, dest_loc)   # downloading the images to the specified folder (dest_loc)."
   ]
  }
 ],
 "metadata": {
  "kernelspec": {
   "display_name": "Python 3",
   "language": "python",
   "name": "python3"
  },
  "language_info": {
   "codemirror_mode": {
    "name": "ipython",
    "version": 3
   },
   "file_extension": ".py",
   "mimetype": "text/x-python",
   "name": "python",
   "nbconvert_exporter": "python",
   "pygments_lexer": "ipython3",
   "version": "3.11.6"
  }
 },
 "nbformat": 4,
 "nbformat_minor": 2
}
